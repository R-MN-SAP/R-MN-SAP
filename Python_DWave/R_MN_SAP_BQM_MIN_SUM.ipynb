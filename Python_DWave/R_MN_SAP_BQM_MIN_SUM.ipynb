{
  "nbformat": 4,
  "nbformat_minor": 0,
  "metadata": {
    "colab": {
      "provenance": [],
      "collapsed_sections": [
        "ER1-87hN1dTh",
        "9SYo7WnRrVkk",
        "itpnMu6bCbyh"
      ]
    },
    "kernelspec": {
      "name": "python3",
      "display_name": "Python 3"
    },
    "language_info": {
      "name": "python"
    }
  },
  "cells": [
    {
      "cell_type": "markdown",
      "source": [
        "# Install"
      ],
      "metadata": {
        "id": "ER1-87hN1dTh"
      }
    },
    {
      "cell_type": "code",
      "execution_count": null,
      "metadata": {
        "id": "D0GXGYJcNXx7"
      },
      "outputs": [],
      "source": [
        "!pip install -q dwave-ocean-sdk"
      ]
    },
    {
      "cell_type": "code",
      "execution_count": null,
      "metadata": {
        "id": "ShO9hQ8PJd5J"
      },
      "outputs": [],
      "source": [
        "import pandas as pd\n",
        "import numpy as np\n",
        "import matplotlib.pyplot as plt\n",
        "from itertools import product\n",
        "from google.colab import files\n",
        "import pickle\n",
        "from tqdm import tqdm\n",
        "import time"
      ]
    },
    {
      "cell_type": "code",
      "source": [
        "from collections import defaultdict\n",
        "from dwave.system.samplers import DWaveSampler\n",
        "from dwave.system.composites import EmbeddingComposite\n",
        "import dwave.inspector as inspector\n",
        "from dimod import ConstrainedQuadraticModel, CQM, SampleSet, cqm_to_bqm, to_networkx_graph\n",
        "from dwave.system import LeapHybridCQMSampler\n",
        "from dimod.vartypes import Vartype\n",
        "from dimod import Binary, quicksum\n",
        "from dimod import BinaryQuadraticModel"
      ],
      "metadata": {
        "id": "ycKabPb_J2ij"
      },
      "execution_count": null,
      "outputs": []
    },
    {
      "cell_type": "code",
      "source": [
        "from google.colab import userdata"
      ],
      "metadata": {
        "id": "VvbLyZzT2AwL"
      },
      "execution_count": null,
      "outputs": []
    },
    {
      "cell_type": "markdown",
      "source": [
        "# DWAVE Initializing"
      ],
      "metadata": {
        "id": "9SYo7WnRrVkk"
      }
    },
    {
      "cell_type": "code",
      "source": [
        "endpoint = 'https://cloud.dwavesys.com/sapi'\n",
        "token = userdata.get('dwave_leap')"
      ],
      "metadata": {
        "id": "X2SV9Zx3rVkk"
      },
      "execution_count": null,
      "outputs": []
    },
    {
      "cell_type": "markdown",
      "source": [
        "# Import Alpha, Beta and Theta data"
      ],
      "metadata": {
        "id": "UdfADZN_AOnF"
      }
    },
    {
      "cell_type": "markdown",
      "source": [
        "## Alpha data"
      ],
      "metadata": {
        "id": "d4B6AnwQBzbG"
      }
    },
    {
      "cell_type": "code",
      "source": [
        "alpha_data = files.upload()\n",
        "alpha_file_name = list(alpha_data.keys())[0]\n",
        "alpha_file_name"
      ],
      "metadata": {
        "id": "bulgjK3QARQ8"
      },
      "execution_count": null,
      "outputs": []
    },
    {
      "cell_type": "code",
      "source": [
        "alpha = dict()\n",
        "with open(alpha_file_name) as f:\n",
        "    lines = f.readlines()\n",
        "    for line in lines:\n",
        "      a,b,c = line.replace('\\n','').split(' ')\n",
        "      a = int(a)\n",
        "      b = int(b)\n",
        "      c = int(c)\n",
        "      alpha[(a-1,b-1)] = c\n",
        "#alpha"
      ],
      "metadata": {
        "id": "-MlXWL7z_Qsg"
      },
      "execution_count": null,
      "outputs": []
    },
    {
      "cell_type": "markdown",
      "source": [
        "## Beta data"
      ],
      "metadata": {
        "id": "_BUEX0pLB1Tx"
      }
    },
    {
      "cell_type": "code",
      "source": [
        "beta_data = files.upload()\n",
        "beta_file_name = list(beta_data.keys())[0]\n",
        "beta_file_name"
      ],
      "metadata": {
        "id": "fiBWvFBBB2j1"
      },
      "execution_count": null,
      "outputs": []
    },
    {
      "cell_type": "code",
      "source": [
        "n_students = 0\n",
        "with open(beta_file_name) as f:\n",
        "    lines = f.readlines()\n",
        "    first_line = lines[0].split(' ')\n",
        "    #print(first_line)\n",
        "    n_features = len(first_line)\n",
        "    #print(n_features)\n",
        "    beta = [[] for x in range(n_features)]\n",
        "    for line in lines:\n",
        "      n_students +=1\n",
        "      line = line.replace('\\n','').split(' ')\n",
        "      for i in range(n_features):\n",
        "        beta[i].append(int(line[i]))"
      ],
      "metadata": {
        "id": "TpPkon1gB8H_"
      },
      "execution_count": null,
      "outputs": []
    },
    {
      "cell_type": "code",
      "source": [
        "for i in range(n_students):\n",
        "  for j in range(n_students):\n",
        "    if i==j:\n",
        "      alpha[(i,j)] = 0"
      ],
      "metadata": {
        "id": "TtG7gqjDNsJT"
      },
      "execution_count": null,
      "outputs": []
    },
    {
      "cell_type": "code",
      "source": [
        "#alpha"
      ],
      "metadata": {
        "id": "Y3egBXJoNsJU"
      },
      "execution_count": null,
      "outputs": []
    },
    {
      "cell_type": "markdown",
      "source": [
        "## Theta data"
      ],
      "metadata": {
        "id": "PJnxDYpLHTk-"
      }
    },
    {
      "cell_type": "code",
      "source": [
        "theta_data = files.upload()\n",
        "theta_file_name = list(theta_data.keys())[0]\n",
        "theta_file_name"
      ],
      "metadata": {
        "id": "aHDkKyW8HUlg"
      },
      "execution_count": null,
      "outputs": []
    },
    {
      "cell_type": "code",
      "source": [
        "theta = []\n",
        "with open(theta_file_name) as f:\n",
        "    lines = f.readlines()\n",
        "    for line in lines:\n",
        "      theta.append(int(line.replace('\\n','')))\n",
        "theta"
      ],
      "metadata": {
        "id": "ykZEKs_zH8i0"
      },
      "execution_count": null,
      "outputs": []
    },
    {
      "cell_type": "code",
      "source": [
        "beta_max = [theta[x] for x in range(n_features)]\n",
        "tao_min = theta[-2]\n",
        "tao_max = theta[-1]"
      ],
      "metadata": {
        "id": "rh--YUEUItHu"
      },
      "execution_count": null,
      "outputs": []
    },
    {
      "cell_type": "markdown",
      "source": [
        "## Check problem inputs"
      ],
      "metadata": {
        "id": "0rE7FJauJPzC"
      }
    },
    {
      "cell_type": "code",
      "source": [
        "n_groups = 3"
      ],
      "metadata": {
        "id": "bMEl6vXlJULh"
      },
      "execution_count": null,
      "outputs": []
    },
    {
      "cell_type": "code",
      "source": [
        "N,C = range(n_students),range(n_groups)"
      ],
      "metadata": {
        "id": "A8dbuR7HrcxU"
      },
      "execution_count": null,
      "outputs": []
    },
    {
      "cell_type": "code",
      "source": [
        "print(f'Arrange classroom of {n_students} students, into {n_groups} groups of min group \\\n",
        "size: {tao_min} and max group size: {tao_max}')"
      ],
      "metadata": {
        "id": "AJvLwHXfI6Bg"
      },
      "execution_count": null,
      "outputs": []
    },
    {
      "cell_type": "markdown",
      "source": [
        "# BQM solve function"
      ],
      "metadata": {
        "id": "P9E7n7Y4m1pj"
      }
    },
    {
      "cell_type": "code",
      "source": [
        "def produce_anneal_schedule(anneal_time,pause_duration):\n",
        "\n",
        "  step = anneal_time//2\n",
        "\n",
        "  p1 = [0,0]\n",
        "  p2 = [step,0.5]\n",
        "  p3 = [step+pause_duration,0.5]\n",
        "  p4 = [anneal_time + pause_duration,1.0]\n",
        "\n",
        "  return [p1,p2,p3,p4]"
      ],
      "metadata": {
        "id": "HUAhIvILneUT"
      },
      "execution_count": null,
      "outputs": []
    },
    {
      "cell_type": "code",
      "source": [
        "def solve_r_m_n_sap(alpha,beta,theta,n_students,n_groups,tao_min,tao_max,anneal_time = 20,pause_duration = 0, NUM_READS = 1000,verbose = False):\n",
        "\n",
        "  if verbose:\n",
        "    print('Creating model...')\n",
        "\n",
        "  N,C = range(n_students),range(n_groups)\n",
        "\n",
        "  LAMBDA = n_groups * tao_max*( tao_max - 1)\n",
        "  x = np.array([[f'x_{i}_{c}' for c in C] for i in N])\n",
        "\n",
        "  bqm = BinaryQuadraticModel(Vartype.BINARY)\n",
        "\n",
        "  # objective function\n",
        "\n",
        "  for i in N:\n",
        "    for j in N:\n",
        "      if i == j or alpha.get((i,j),0) == 0:\n",
        "        continue\n",
        "      for c in C:\n",
        "        var1 = x[i,c]\n",
        "        var2 = x[j,c]\n",
        "        cost = -1*alpha.get((i,j),0)\n",
        "        bqm.add_quadratic(var1,var2,cost)\n",
        "\n",
        "  # Constraint one single group constraint\n",
        "\n",
        "  for i in N:\n",
        "      terms = x[i,:]\n",
        "      terms = [(x,1) for x in terms]\n",
        "      bqm.add_linear_equality_constraint(terms = terms, lagrange_multiplier = LAMBDA, constant = -1)\n",
        "      terms.clear\n",
        "\n",
        "  # min group size\n",
        "\n",
        "  for c in C:\n",
        "      terms = x[:,c]\n",
        "      terms = [(x,1) for x in terms]\n",
        "      bqm.add_linear_inequality_constraint(terms = terms, lagrange_multiplier = LAMBDA, lb = tao_min,ub = tao_max,label = 'tao_min')\n",
        "      terms.clear\n",
        "\n",
        "  # max group size\n",
        "\n",
        "  for c in C:\n",
        "      terms = x[:,c]\n",
        "      terms = [(x,1) for x in terms]\n",
        "      bqm.add_linear_inequality_constraint(terms = terms, lagrange_multiplier = LAMBDA, constant = -tao_max,label = 'tao_max')\n",
        "      terms.clear\n",
        "\n",
        "\n",
        "  # Beta homegeinity constraints\n",
        "  group_combs = [(c,cp) for c in C for cp in C if c!=cp]\n",
        "\n",
        "  for c1,c2 in group_combs:\n",
        "    for f in range(n_features):\n",
        "\n",
        "      bf = beta[f]\n",
        "      B = beta_max[f]\n",
        "\n",
        "      terms1 = [(x[i,c1],bf[i]) for i in N]\n",
        "      terms2 = [(x[i,c2],-bf[i]) for i in N]\n",
        "      terms = terms1 + terms2\n",
        "      bqm.add_linear_inequality_constraint(terms = terms, lagrange_multiplier = LAMBDA, constant = -B,label = 'homophily_break')\n",
        "\n",
        "  if verbose:\n",
        "    print('Solving model...')\n",
        "\n",
        "  # solve the model\n",
        "  schedule = produce_anneal_schedule(anneal_time,pause_duration)\n",
        "\n",
        "  sampler = DWaveSampler(solver='Advantage_system6.4',endpoint= endpoint, token = token)\n",
        "  if verbose:\n",
        "    print(\"Connected to sampler\", sampler.solver.name)\n",
        "\n",
        "  sampler = EmbeddingComposite(sampler)\n",
        "  sampler_name = sampler.properties['child_properties']['chip_id']\n",
        "\n",
        "  CHAIN_S = 2*LAMBDA\n",
        "\n",
        "  instance_name = f'CGFP_BQM_{n_students}_{n_groups}_{anneal_time}_{pause_duration}'\n",
        "  if verbose:\n",
        "    print(f'Instance name: {instance_name}')\n",
        "  if pause_duration == 0:\n",
        "    sampleset = sampler.sample(bqm, num_reads= NUM_READS,annealing_time=anneal_time,label = instance_name,chain_strength=CHAIN_S)\n",
        "    if verbose:\n",
        "      print(\"No Pause\")\n",
        "  else:\n",
        "    if verbose:\n",
        "      print(f\"With Pause, Schedule {schedule}\")\n",
        "\n",
        "      plt.figure(1, figsize=(3, 3))\n",
        "      plt.plot(*np.array(schedule).T)\n",
        "      plt.title(\"Anneal Schedule\")\n",
        "      plt.xlabel(\"Time [us]\")\n",
        "      plt.ylabel(\"Annealing Parameter s\")\n",
        "      plt.ylim([0.0,1.0])\n",
        "      plt.show()\n",
        "\n",
        "    sampleset = sampler.sample(bqm, num_reads= NUM_READS,label=instance_name,chain_strength=CHAIN_S,anneal_schedule=schedule)\n",
        "  if verbose:\n",
        "    print(\"Solved\")\n",
        "\n",
        "  return sampleset"
      ],
      "metadata": {
        "id": "ne27Kz5jm5k6"
      },
      "execution_count": null,
      "outputs": []
    },
    {
      "cell_type": "code",
      "source": [
        "# sampleset_test = solve_r_m_n_sap(alpha,\n",
        "#                                 beta,\n",
        "#                                 theta,\n",
        "#                                 n_students,\n",
        "#                                 n_groups,\n",
        "#                                 tao_min,\n",
        "#                                 tao_max,\n",
        "#                                 anneal_time = 20,\n",
        "#                                 pause_duration = 50,\n",
        "#                                 NUM_READS = 1000,\n",
        "#                                 verbose = True)"
      ],
      "metadata": {
        "id": "12xFSdaUoSw0"
      },
      "execution_count": null,
      "outputs": []
    },
    {
      "cell_type": "markdown",
      "source": [
        "# testing multiple running times and anneal schedules"
      ],
      "metadata": {
        "id": "IHMfI1LeqJRM"
      }
    },
    {
      "cell_type": "code",
      "source": [
        "anneal_times = [10,20,50,100,200]\n",
        "pause_durations = [0,10,20,50,100]\n",
        "\n",
        "NUM_READS = 1000\n",
        "\n",
        "outputs = []\n",
        "\n",
        "total_iterations = len(anneal_times)*len(pause_durations)\n",
        "\n",
        "with tqdm(total=total_iterations) as pbar:\n",
        "\n",
        "  for anneal_time in anneal_times:\n",
        "    for pause_duration in pause_durations:\n",
        "      sampleset = solve_r_m_n_sap(alpha,\n",
        "                                beta,\n",
        "                                theta,\n",
        "                                n_students,\n",
        "                                n_groups,\n",
        "                                tao_min,\n",
        "                                tao_max,\n",
        "                                anneal_time = anneal_time,\n",
        "                                pause_duration = pause_duration,\n",
        "                                NUM_READS = NUM_READS,\n",
        "                                verbose = False)\n",
        "\n",
        "      row = {'n':n_students,'c':n_groups,'anneal_time':anneal_time,'pause_duration':pause_duration,'sampleset':sampleset.to_serializable()}\n",
        "      outputs.append(row)\n",
        "      time.sleep(5)\n",
        "      pbar.update(1)"
      ],
      "metadata": {
        "id": "LHPq-snVqMEE"
      },
      "execution_count": null,
      "outputs": []
    },
    {
      "cell_type": "code",
      "source": [
        "with open(f\"Vision_{n_students}_{n_groups}_x_min_sum_BQM.pkl\", 'wb') as f:\n",
        "  pickle.dump(outputs, f)"
      ],
      "metadata": {
        "id": "25tam9zb3hW8"
      },
      "execution_count": null,
      "outputs": []
    },
    {
      "cell_type": "code",
      "source": [
        "def load_pickle(filename):\n",
        "    \"\"\"\n",
        "    Load a pickle file and return its contents.\n",
        "\n",
        "    Parameters:\n",
        "    filename (str): Path to the pickle file.\n",
        "\n",
        "    Returns:\n",
        "    object: The deserialized object from the pickle file.\n",
        "    \"\"\"\n",
        "    with open(filename, 'rb') as f:\n",
        "        return pickle.load(f)"
      ],
      "metadata": {
        "id": "F7Gqa3UqxHNU"
      },
      "execution_count": null,
      "outputs": []
    },
    {
      "cell_type": "code",
      "source": [
        "example = load_pickle('Vision_21_3_x_min_sum_BQM.pkl')"
      ],
      "metadata": {
        "id": "Pbt14CcvxKyy"
      },
      "execution_count": null,
      "outputs": []
    },
    {
      "cell_type": "code",
      "source": [
        "SampleSet.from_serializable(example[0]['sampleset']).record"
      ],
      "metadata": {
        "id": "mNpqNq27xRnC"
      },
      "execution_count": null,
      "outputs": []
    },
    {
      "cell_type": "markdown",
      "source": [
        "# Creating BQM model"
      ],
      "metadata": {
        "id": "itpnMu6bCbyh"
      }
    },
    {
      "cell_type": "code",
      "source": [
        "LAMBDA = n_groups * tao_max*( tao_max - 1)\n",
        "print(LAMBDA)"
      ],
      "metadata": {
        "id": "-VOGSYLbEuD5"
      },
      "execution_count": null,
      "outputs": []
    },
    {
      "cell_type": "code",
      "source": [
        "x = np.array([[f'x_{i}_{c}' for c in C] for i in N])"
      ],
      "metadata": {
        "id": "FQCdF1UPCseB"
      },
      "execution_count": null,
      "outputs": []
    },
    {
      "cell_type": "code",
      "source": [
        "bqm = BinaryQuadraticModel(Vartype.BINARY)"
      ],
      "metadata": {
        "id": "eeBLhzoyCgJ5"
      },
      "execution_count": null,
      "outputs": []
    },
    {
      "cell_type": "code",
      "source": [
        "# objective function\n",
        "\n",
        "for i in N:\n",
        "  for j in N:\n",
        "    if i == j or alpha.get((i,j),0) == 0:\n",
        "      continue\n",
        "    for c in C:\n",
        "      var1 = x[i,c]\n",
        "      var2 = x[j,c]\n",
        "      cost = -1*alpha.get((i,j),0)\n",
        "      bqm.add_quadratic(var1,var2,cost)"
      ],
      "metadata": {
        "id": "vBtVhswKC08p"
      },
      "execution_count": null,
      "outputs": []
    },
    {
      "cell_type": "code",
      "source": [
        "# Constraint one single group constraint\n",
        "\n",
        "for i in N:\n",
        "    terms = x[i,:]\n",
        "    terms = [(x,1) for x in terms]\n",
        "    bqm.add_linear_equality_constraint(terms = terms, lagrange_multiplier = LAMBDA, constant = -1)\n",
        "    terms.clear"
      ],
      "metadata": {
        "id": "cqczp61qD0q5"
      },
      "execution_count": null,
      "outputs": []
    },
    {
      "cell_type": "code",
      "source": [
        "# min group size\n",
        "\n",
        "for c in C:\n",
        "    terms = x[:,c]\n",
        "    terms = [(x,1) for x in terms]\n",
        "    bqm.add_linear_inequality_constraint(terms = terms, lagrange_multiplier = LAMBDA, lb = tao_min,ub = tao_max,label = 'tao_min')\n",
        "    terms.clear"
      ],
      "metadata": {
        "id": "yRd5tqkxHdfc"
      },
      "execution_count": null,
      "outputs": []
    },
    {
      "cell_type": "code",
      "source": [
        "# max group size\n",
        "\n",
        "for c in C:\n",
        "    terms = x[:,c]\n",
        "    terms = [(x,1) for x in terms]\n",
        "    bqm.add_linear_inequality_constraint(terms = terms, lagrange_multiplier = LAMBDA, constant = -tao_max,label = 'tao_max')\n",
        "    terms.clear"
      ],
      "metadata": {
        "id": "eVA_yA1AJrzF"
      },
      "execution_count": null,
      "outputs": []
    },
    {
      "cell_type": "code",
      "source": [
        "# Beta homegeinity constraints\n",
        "group_combs = [(c,cp) for c in C for cp in C if c!=cp]\n",
        "\n",
        "for c1,c2 in group_combs:\n",
        "  for f in range(n_features):\n",
        "\n",
        "    bf = beta[f]\n",
        "    B = beta_max[f]\n",
        "\n",
        "    terms1 = [(x[i,c1],bf[i]) for i in N]\n",
        "    terms2 = [(x[i,c2],-bf[i]) for i in N]\n",
        "    terms = terms1 + terms2\n",
        "    bqm.add_linear_inequality_constraint(terms = terms, lagrange_multiplier = LAMBDA, constant = -B,label = 'homophily_break')"
      ],
      "metadata": {
        "id": "pIkL7NeBJ1T1"
      },
      "execution_count": null,
      "outputs": []
    },
    {
      "cell_type": "markdown",
      "source": [
        "# Solve the BQM model"
      ],
      "metadata": {
        "id": "FfIcdXPCS-F4"
      }
    },
    {
      "cell_type": "code",
      "source": [
        "print(len(bqm.linear))\n",
        "print(len(bqm.quadratic))"
      ],
      "metadata": {
        "id": "JN3Rw5_aS4eg"
      },
      "execution_count": null,
      "outputs": []
    },
    {
      "cell_type": "code",
      "source": [
        "def produce_anneal_schedule(anneal_time,pause_duration):\n",
        "\n",
        "  step = anneal_time//2\n",
        "\n",
        "  p1 = [0,0]\n",
        "  p2 = [step,0.5]\n",
        "  p3 = [step+pause_duration,0.5]\n",
        "  p4 = [anneal_time + pause_duration,1.0]\n",
        "\n",
        "  return [p1,p2,p3,p4]"
      ],
      "metadata": {
        "id": "kio-gf2HUnB6"
      },
      "execution_count": null,
      "outputs": []
    },
    {
      "cell_type": "code",
      "source": [
        "anneal_time = 20\n",
        "pause_duration = 10\n",
        "\n",
        "schedule = produce_anneal_schedule(anneal_time,pause_duration)\n",
        "print(\"Schedule: %s\" % schedule)\n",
        "\n",
        "plt.figure(1, figsize=(3, 3))\n",
        "plt.plot(*np.array(schedule).T)\n",
        "plt.title(\"Anneal Schedule\")\n",
        "plt.xlabel(\"Time [us]\")\n",
        "plt.ylabel(\"Annealing Parameter s\")\n",
        "plt.ylim([0.0,1.0])\n",
        "plt.show()"
      ],
      "metadata": {
        "id": "Lf9LLa10Uxkg"
      },
      "execution_count": null,
      "outputs": []
    },
    {
      "cell_type": "code",
      "source": [
        "sampler = DWaveSampler(solver='Advantage_system6.4',endpoint= endpoint, token = token)\n",
        "print(\"Connected to sampler\", sampler.solver.name)"
      ],
      "metadata": {
        "id": "VI7CQPQgxEbH"
      },
      "execution_count": null,
      "outputs": []
    },
    {
      "cell_type": "code",
      "source": [
        "sampler = EmbeddingComposite(sampler)\n",
        "sampler_name = sampler.properties['child_properties']['chip_id']"
      ],
      "metadata": {
        "id": "oMjDjUeQxG9G"
      },
      "execution_count": null,
      "outputs": []
    },
    {
      "cell_type": "code",
      "source": [
        "NUM_READS = 1000\n",
        "CHAIN_S = LAMBDA\n",
        "outputs = []\n",
        "\n",
        "anneal_times = [20]\n",
        "pause_durations = [0,]\n",
        "\n",
        "total_iterations = len(anneal_times)*len(pause_durations)\n",
        "\n",
        "with tqdm(total=total_iterations) as pbar:\n",
        "\n",
        "  for anneal_time in anneal_times:\n",
        "    for pause_duration in pause_durations:\n",
        "      schedule = produce_anneal_schedule(anneal_time,pause_duration)\n",
        "      instance_name = f'R_MN_SAP_BQM_{n_students}_{n_groups}_{anneal_time}_{pause_duration}'\n",
        "      if pause_duration == 0:\n",
        "        sampleset = {}\n",
        "        sampleset = sampler.sample(bqm, num_reads= NUM_READS,annealing_time=anneal_time,label = instance_name,chain_strength=CHAIN_S)\n",
        "        row = {'n':n_students,'c':n_groups,'anneal_time':anneal_time,'pause_duration':pause_duration,'sampleset':sampleset}\n",
        "        outputs.append(row)\n",
        "        pbar.update(1)\n",
        "      else:\n",
        "        sampleset = {}\n",
        "        sampleset = sampler.sample(bqm, num_reads= NUM_READS,label=instance_name,chain_strength=CHAIN_S,anneal_schedule=schedule)\n",
        "        row = {'n':n_students,'c':n_groups,'anneal_time':anneal_time,'pause_duration':pause_duration,'sampleset':sampleset}\n",
        "        outputs.append(row)\n",
        "        pbar.update(1)"
      ],
      "metadata": {
        "id": "Ffi23mIaePgV"
      },
      "execution_count": null,
      "outputs": []
    },
    {
      "cell_type": "code",
      "source": [
        "product(anneal_time,pause_durations)"
      ],
      "metadata": {
        "id": "AePwicHdocEH"
      },
      "execution_count": null,
      "outputs": []
    },
    {
      "cell_type": "code",
      "source": [
        "combs = [(a,b) for a in anneal_times for b in pause_durations]\n",
        "for comb,out in zip(combs,outputs):\n",
        "  try:\n",
        "    print(comb, out['sampleset'].first.energy)\n",
        "  except:\n",
        "    print(f'problem with {comb}')"
      ],
      "metadata": {
        "id": "EWER1e6cnFXD"
      },
      "execution_count": null,
      "outputs": []
    },
    {
      "cell_type": "code",
      "source": [
        "with open(f\"Vision_{n_students}_{n_groups}_sampleset_min_sum_bqm.pkl\", 'wb') as f:\n",
        "  pickle.dump(outputs, f)"
      ],
      "metadata": {
        "id": "g-6vtRtVgUmH"
      },
      "execution_count": null,
      "outputs": []
    }
  ]
}