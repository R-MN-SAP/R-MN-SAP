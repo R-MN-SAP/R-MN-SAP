{
  "nbformat": 4,
  "nbformat_minor": 0,
  "metadata": {
    "colab": {
      "provenance": [],
      "collapsed_sections": [
        "89hcDsex-xpE",
        "7HqPa5dvN5aN",
        "bLN66GRyAI1e"
      ]
    },
    "kernelspec": {
      "name": "python3",
      "display_name": "Python 3"
    },
    "language_info": {
      "name": "python"
    }
  },
  "cells": [
    {
      "cell_type": "markdown",
      "source": [
        "# Libraries"
      ],
      "metadata": {
        "id": "89hcDsex-xpE"
      }
    },
    {
      "cell_type": "code",
      "execution_count": null,
      "metadata": {
        "id": "D0GXGYJcNXx7"
      },
      "outputs": [],
      "source": [
        "!pip install -q dwave-ocean-sdk"
      ]
    },
    {
      "cell_type": "code",
      "execution_count": null,
      "metadata": {
        "id": "ShO9hQ8PJd5J"
      },
      "outputs": [],
      "source": [
        "import pandas as pd\n",
        "import numpy as np\n",
        "import matplotlib.pyplot as plt\n",
        "from itertools import product\n",
        "from google.colab import files\n",
        "from google.colab import userdata\n",
        "import pickle\n",
        "import os\n",
        "import shutil\n",
        "from tqdm import tqdm"
      ]
    },
    {
      "cell_type": "code",
      "source": [
        "from collections import defaultdict\n",
        "from dwave.system.samplers import DWaveSampler\n",
        "from dwave.system.composites import EmbeddingComposite\n",
        "import dwave.inspector as inspector\n",
        "from dimod import ConstrainedQuadraticModel, CQM, SampleSet\n",
        "from dwave.system import LeapHybridCQMSampler\n",
        "from dimod.vartypes import Vartype\n",
        "from dimod import Binary, quicksum"
      ],
      "metadata": {
        "id": "ycKabPb_J2ij"
      },
      "execution_count": null,
      "outputs": []
    },
    {
      "cell_type": "markdown",
      "source": [
        "# DWAVE Initializing"
      ],
      "metadata": {
        "id": "7HqPa5dvN5aN"
      }
    },
    {
      "cell_type": "code",
      "source": [
        "endpoint = 'https://cloud.dwavesys.com/sapi'\n",
        "token = userdata.get('dwave_leap')"
      ],
      "metadata": {
        "id": "-_8cybvx17tP"
      },
      "execution_count": null,
      "outputs": []
    },
    {
      "cell_type": "markdown",
      "source": [
        "# QSAP Data Class"
      ],
      "metadata": {
        "id": "bLN66GRyAI1e"
      }
    },
    {
      "cell_type": "code",
      "source": [
        "class GQAPInstance:\n",
        "    def __init__(self, filename):\n",
        "        self.filename = filename\n",
        "        self.instance_name = filename.split('.')[0]\n",
        "        self.n = 0  # number of facilities\n",
        "        self.m = 0  # number of sites\n",
        "        self.w = 0  # capacity per site\n",
        "        self.T = []  # Traffic matrix (n x n)\n",
        "        self.D = []  # Distance matrix (m x m)\n",
        "        self.A = []  # Assignment cost matrix (n x m)\n",
        "        self.read_instance()\n",
        "\n",
        "    def read_instance(self):\n",
        "        with open(self.filename, 'r') as file:\n",
        "            lines = file.readlines()\n",
        "\n",
        "        # Read first line: n, m, w\n",
        "        self.n, self.m, self.w = map(int, lines[0].strip().split())\n",
        "\n",
        "        # Read Traffic matrix T (n x n)\n",
        "        current_line = 1\n",
        "        self.T = []\n",
        "        for i in range(self.n):\n",
        "            self.T.append(list(map(int, lines[current_line + i].strip().split())))\n",
        "        current_line += self.n  # Move to next section after reading T\n",
        "\n",
        "        # Read Distance matrix D (m x m)\n",
        "        self.D = []\n",
        "        for i in range(self.m):\n",
        "            self.D.append(list(map(int, lines[current_line + i].strip().split())))\n",
        "        current_line += self.m  # Move to next section after reading D\n",
        "\n",
        "        # Read Assignment cost matrix A (n x m)\n",
        "        self.A = []\n",
        "        for i in range(self.n):\n",
        "            self.A.append(list(map(int, lines[current_line + i].strip().split())))\n",
        "\n",
        "        self.A = np.array(self.A)\n",
        "        self.T = np.array(self.T)\n",
        "        self.D = np.array(self.D)\n",
        "\n",
        "    def display(self):\n",
        "        print(f\"Number of facilities (n): {self.n}\")\n",
        "        print(f\"Number of sites (m): {self.m}\")\n",
        "        print(f\"Capacity per site (w): {self.w}\")\n",
        "        print(f\"\\nTraffic Matrix (T), size {self.T.shape}:\")\n",
        "        for row in self.T:\n",
        "            print(row)\n",
        "        print(f\"\\nDistance Matrix (D), size {self.D.shape}:\")\n",
        "        for row in self.D:\n",
        "            print(row)\n",
        "        print(f\"\\nAssignment Cost Matrix (A), size {self.A.shape}:\")\n",
        "        for row in self.A:\n",
        "            print(row)\n",
        "\n",
        "    def write_matrix_log_format(self, matrix_name,output_filename, verbose = False):\n",
        "        \"\"\"\n",
        "        Writes a matrix in log format to a file.\n",
        "        matrix_name: 'T', 'D', or 'A'\n",
        "        output_filename: name of the output file\n",
        "        \"\"\"\n",
        "        if matrix_name == 'T':\n",
        "            matrix = self.T\n",
        "            rows, cols = self.n, self.n\n",
        "        elif matrix_name == 'D':\n",
        "            matrix = self.D\n",
        "            rows, cols = self.m, self.m\n",
        "        elif matrix_name == 'A':\n",
        "            matrix = self.A\n",
        "            rows, cols = self.n, self.m\n",
        "        else:\n",
        "            raise ValueError(\"Invalid matrix name. Use 'T', 'D', or 'A'.\")\n",
        "\n",
        "        # output_filename = f\"{self.n}_{self.m}_{self.w}_{matrix_name}.txt\"\n",
        "        with open(output_filename, 'w') as file:\n",
        "            for i in range(rows):\n",
        "                for j in range(cols):\n",
        "                    # Write log format (1-based indices)\n",
        "                    file.write(f\"{i+1} {j+1} {matrix[i][j]}\\n\")\n",
        "        if verbose:\n",
        "          print(f\"Matrix {matrix_name} written to {output_filename} in log format.\")\n",
        "\n",
        "    def generate_all_output_logs(self,output_folder,verbose = False):\n",
        "        os.makedirs(output_folder, exist_ok=True)\n",
        "        for matrix_name in ['T', 'D', 'A']:\n",
        "            output_filename = os.path.join(output_folder, f\"{self.instance_name}_{self.n}_{self.m}_{self.w}_{matrix_name}_log.txt\")\n",
        "            self.write_matrix_log_format(matrix_name,output_filename, verbose)"
      ],
      "metadata": {
        "id": "rowI8aA-AM0c"
      },
      "execution_count": null,
      "outputs": []
    },
    {
      "cell_type": "markdown",
      "source": [
        "# Import data"
      ],
      "metadata": {
        "id": "9cGODKnQAOLT"
      }
    },
    {
      "cell_type": "code",
      "source": [
        "instance = GQAPInstance('50-10-95.dat')"
      ],
      "metadata": {
        "id": "YEYr8n-7ARVk"
      },
      "execution_count": null,
      "outputs": []
    },
    {
      "cell_type": "code",
      "source": [
        "instance.display()"
      ],
      "metadata": {
        "id": "XmjjI3vrAeRr"
      },
      "execution_count": null,
      "outputs": []
    },
    {
      "cell_type": "markdown",
      "source": [
        "# Creating Model"
      ],
      "metadata": {
        "id": "r8OghDAVN_YJ"
      }
    },
    {
      "cell_type": "code",
      "source": [
        "N = range(instance.n)\n",
        "M = range(instance.m)"
      ],
      "metadata": {
        "id": "ohEfC2_e5WyZ"
      },
      "execution_count": null,
      "outputs": []
    },
    {
      "cell_type": "code",
      "source": [
        "# create empty model\n",
        "cqm = ConstrainedQuadraticModel()"
      ],
      "metadata": {
        "id": "_kT0hqFm5fUy"
      },
      "execution_count": null,
      "outputs": []
    },
    {
      "cell_type": "code",
      "source": [
        "# create variables\n",
        "x = {(i, k): Binary(f'x{i}_{k}') for i in N for k in M}"
      ],
      "metadata": {
        "id": "lUiApXL_5fv5"
      },
      "execution_count": null,
      "outputs": []
    },
    {
      "cell_type": "code",
      "source": [
        "total_iterations = (instance.n**2)*(instance.m**2)"
      ],
      "metadata": {
        "id": "MrqMjVtGmWkA"
      },
      "execution_count": null,
      "outputs": []
    },
    {
      "cell_type": "code",
      "source": [
        "# create linear term of the objective function\n",
        "linear_term = quicksum( x[i,k]*instance.A[i,k] for i in N \\\n",
        "                                for k in M)\n",
        "\n",
        "quadratic_terms = 0\n",
        "\n",
        "with tqdm(total=total_iterations, desc=\"Progress\", unit=\"iteration\") as pbar:\n",
        "  for i in N:\n",
        "    for j in N:\n",
        "      for l in M:\n",
        "        for k in M:\n",
        "          quadratic_terms += x[i,k]*x[j,l]*instance.T[i,j]*instance.D[k,l]*instance.w\n",
        "          pbar.update(1)\n",
        "\n",
        "objective = linear_term + quadratic_terms\n",
        "\n",
        "cqm.set_objective(objective)"
      ],
      "metadata": {
        "id": "KZYIMXj5lgCF"
      },
      "execution_count": null,
      "outputs": []
    },
    {
      "cell_type": "code",
      "source": [
        "# # create linear term of the objective function\n",
        "# linear_term = quicksum( x[i,k]*instance.A[i,k] for i in N \\\n",
        "#                                 for k in M)\n",
        "\n",
        "# # create quadratic term of the objective function\n",
        "# quadratic_term = quicksum( x[i,k]*x[j,l]*instance.T[i,j]*instance.D[k,l] \\\n",
        "#                                 for i in N \\\n",
        "#                                 for k in M \\\n",
        "#                                 for j in N \\\n",
        "#                                 for l in M)\n",
        "\n",
        "# objective = linear_term + quadratic_term\n",
        "\n",
        "# cqm.set_objective(objective)"
      ],
      "metadata": {
        "id": "zdrPAyqC5qmz"
      },
      "execution_count": null,
      "outputs": []
    },
    {
      "cell_type": "code",
      "source": [
        "# A facility can only be assigned to only and only one site\n",
        "for i in N:\n",
        "  cqm.add_constraint( quicksum(x[i,k] for k in M) == 1 )"
      ],
      "metadata": {
        "id": "8pptnitz59cC"
      },
      "execution_count": null,
      "outputs": []
    },
    {
      "cell_type": "markdown",
      "source": [
        "## Run the model"
      ],
      "metadata": {
        "id": "QBkgMZovZCsR"
      }
    },
    {
      "cell_type": "code",
      "source": [
        "counter = 1\n",
        "while True:\n",
        "  try:\n",
        "    cqm_sampler = LeapHybridCQMSampler(endpoint=endpoint, token=token)\n",
        "  except:\n",
        "    if counter <= 5:\n",
        "      print(f\"{counter} -  Problem finding embedding trying it once again...\")\n",
        "      counter += 1\n",
        "      continue\n",
        "    else:\n",
        "      raise Exception(f\"Imposible to find an embedding after {counter} tries\")\n",
        "  break"
      ],
      "metadata": {
        "id": "bU3CPrF4Obwq"
      },
      "execution_count": null,
      "outputs": []
    },
    {
      "cell_type": "code",
      "source": [
        "sampleset = cqm_sampler.sample_cqm(cqm,label = f'QSAP_{instance.instance_name}')"
      ],
      "metadata": {
        "id": "NrCGEa_2POav"
      },
      "execution_count": null,
      "outputs": []
    },
    {
      "cell_type": "code",
      "source": [
        "feasible_sampleset = sampleset.filter(lambda row: row.is_feasible)"
      ],
      "metadata": {
        "id": "CVsZ_CWYNDzb"
      },
      "execution_count": null,
      "outputs": []
    },
    {
      "cell_type": "code",
      "source": [
        "not_feasible_sampleset = sampleset.filter(lambda row: not row.is_feasible)"
      ],
      "metadata": {
        "id": "xajW4X2c2dlJ"
      },
      "execution_count": null,
      "outputs": []
    },
    {
      "cell_type": "code",
      "source": [
        "best = feasible_sampleset.first"
      ],
      "metadata": {
        "id": "vdLcU1zKNFIC"
      },
      "execution_count": null,
      "outputs": []
    },
    {
      "cell_type": "code",
      "source": [
        "print(f'Instance Name: {instance.instance_name}')\n",
        "print(f'Best Objective Value = {best.energy:,.0f}')\n",
        "print(f'Running Time = {(sampleset.info[\"run_time\"]/1e6)/60:.5f} min')"
      ],
      "metadata": {
        "id": "AsyCFZ0p8p3S"
      },
      "execution_count": null,
      "outputs": []
    },
    {
      "cell_type": "code",
      "source": [
        "best_solution = best.sample"
      ],
      "metadata": {
        "id": "5VUDPMzTNUM9"
      },
      "execution_count": null,
      "outputs": []
    },
    {
      "cell_type": "markdown",
      "source": [
        "# Save sampleset in pickle file"
      ],
      "metadata": {
        "id": "1Jdwhrsgvodm"
      }
    },
    {
      "cell_type": "code",
      "source": [
        "with open(f\"{instance.instance_name}_dwave_sampleset.pkl\", 'wb') as f:\n",
        "  pickle.dump(sampleset, f)"
      ],
      "metadata": {
        "id": "GNS8mG40vrB1"
      },
      "execution_count": null,
      "outputs": []
    },
    {
      "cell_type": "code",
      "source": [
        "# !rm *"
      ],
      "metadata": {
        "id": "xjNUCdnk7BWr"
      },
      "execution_count": null,
      "outputs": []
    }
  ]
}