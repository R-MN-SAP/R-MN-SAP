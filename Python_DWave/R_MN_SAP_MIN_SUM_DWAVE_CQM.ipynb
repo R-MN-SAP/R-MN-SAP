{
  "nbformat": 4,
  "nbformat_minor": 0,
  "metadata": {
    "colab": {
      "provenance": []
    },
    "kernelspec": {
      "name": "python3",
      "display_name": "Python 3"
    },
    "language_info": {
      "name": "python"
    }
  },
  "cells": [
    {
      "cell_type": "markdown",
      "source": [
        "# Install"
      ],
      "metadata": {
        "id": "ER1-87hN1dTh"
      }
    },
    {
      "cell_type": "code",
      "execution_count": 1,
      "metadata": {
        "colab": {
          "base_uri": "https://localhost:8080/"
        },
        "id": "D0GXGYJcNXx7",
        "outputId": "8f1dea72-67ef-4684-84a8-8bbfcb6e7c40"
      },
      "outputs": [
        {
          "output_type": "stream",
          "name": "stdout",
          "text": [
            "\u001b[2K   \u001b[90m━━━━━━━━━━━━━━━━━━━━━━━━━━━━━━━━━━━━━━━━\u001b[0m \u001b[32m9.0/9.0 MB\u001b[0m \u001b[31m45.5 MB/s\u001b[0m eta \u001b[36m0:00:00\u001b[0m\n",
            "\u001b[2K   \u001b[90m━━━━━━━━━━━━━━━━━━━━━━━━━━━━━━━━━━━━━━━━\u001b[0m \u001b[32m158.6/158.6 kB\u001b[0m \u001b[31m9.0 MB/s\u001b[0m eta \u001b[36m0:00:00\u001b[0m\n",
            "\u001b[2K   \u001b[90m━━━━━━━━━━━━━━━━━━━━━━━━━━━━━━━━━━━━━━━━\u001b[0m \u001b[32m1.5/1.5 MB\u001b[0m \u001b[31m48.5 MB/s\u001b[0m eta \u001b[36m0:00:00\u001b[0m\n",
            "\u001b[2K   \u001b[90m━━━━━━━━━━━━━━━━━━━━━━━━━━━━━━━━━━━━━━━━\u001b[0m \u001b[32m78.3/78.3 kB\u001b[0m \u001b[31m4.1 MB/s\u001b[0m eta \u001b[36m0:00:00\u001b[0m\n",
            "\u001b[2K   \u001b[90m━━━━━━━━━━━━━━━━━━━━━━━━━━━━━━━━━━━━━━━━\u001b[0m \u001b[32m103.7/103.7 kB\u001b[0m \u001b[31m3.0 MB/s\u001b[0m eta \u001b[36m0:00:00\u001b[0m\n",
            "\u001b[2K   \u001b[90m━━━━━━━━━━━━━━━━━━━━━━━━━━━━━━━━━━━━━━━━\u001b[0m \u001b[32m2.6/2.6 MB\u001b[0m \u001b[31m52.0 MB/s\u001b[0m eta \u001b[36m0:00:00\u001b[0m\n",
            "\u001b[2K   \u001b[90m━━━━━━━━━━━━━━━━━━━━━━━━━━━━━━━━━━━━━━━━\u001b[0m \u001b[32m3.3/3.3 MB\u001b[0m \u001b[31m31.7 MB/s\u001b[0m eta \u001b[36m0:00:00\u001b[0m\n",
            "\u001b[2K   \u001b[90m━━━━━━━━━━━━━━━━━━━━━━━━━━━━━━━━━━━━━━━━\u001b[0m \u001b[32m6.7/6.7 MB\u001b[0m \u001b[31m44.0 MB/s\u001b[0m eta \u001b[36m0:00:00\u001b[0m\n",
            "\u001b[2K   \u001b[90m━━━━━━━━━━━━━━━━━━━━━━━━━━━━━━━━━━━━━━━━\u001b[0m \u001b[32m100.5/100.5 kB\u001b[0m \u001b[31m6.3 MB/s\u001b[0m eta \u001b[36m0:00:00\u001b[0m\n",
            "\u001b[2K   \u001b[90m━━━━━━━━━━━━━━━━━━━━━━━━━━━━━━━━━━━━━━━━\u001b[0m \u001b[32m3.9/3.9 MB\u001b[0m \u001b[31m49.9 MB/s\u001b[0m eta \u001b[36m0:00:00\u001b[0m\n",
            "\u001b[2K   \u001b[90m━━━━━━━━━━━━━━━━━━━━━━━━━━━━━━━━━━━━━━━━\u001b[0m \u001b[32m225.5/225.5 kB\u001b[0m \u001b[31m12.9 MB/s\u001b[0m eta \u001b[36m0:00:00\u001b[0m\n",
            "\u001b[2K   \u001b[90m━━━━━━━━━━━━━━━━━━━━━━━━━━━━━━━━━━━━━━━━\u001b[0m \u001b[32m45.5/45.5 kB\u001b[0m \u001b[31m1.6 MB/s\u001b[0m eta \u001b[36m0:00:00\u001b[0m\n",
            "\u001b[?25h"
          ]
        }
      ],
      "source": [
        "!pip install -q dwave-ocean-sdk"
      ]
    },
    {
      "cell_type": "code",
      "execution_count": 52,
      "metadata": {
        "id": "ShO9hQ8PJd5J"
      },
      "outputs": [],
      "source": [
        "import pandas as pd\n",
        "import numpy as np\n",
        "import matplotlib.pyplot as plt\n",
        "from itertools import product\n",
        "from google.colab import files\n",
        "import pickle"
      ]
    },
    {
      "cell_type": "code",
      "source": [
        "from collections import defaultdict\n",
        "from dwave.system.samplers import DWaveSampler\n",
        "from dwave.system.composites import EmbeddingComposite\n",
        "import dwave.inspector as inspector\n",
        "from dimod import ConstrainedQuadraticModel, CQM, SampleSet\n",
        "from dwave.system import LeapHybridCQMSampler\n",
        "from dimod.vartypes import Vartype\n",
        "from dimod import Binary, quicksum"
      ],
      "metadata": {
        "id": "ycKabPb_J2ij"
      },
      "execution_count": 3,
      "outputs": []
    },
    {
      "cell_type": "code",
      "source": [
        "from google.colab import userdata"
      ],
      "metadata": {
        "id": "VvbLyZzT2AwL"
      },
      "execution_count": 24,
      "outputs": []
    },
    {
      "cell_type": "markdown",
      "source": [
        "# Import Alpha, Beta and Theta data"
      ],
      "metadata": {
        "id": "UdfADZN_AOnF"
      }
    },
    {
      "cell_type": "markdown",
      "source": [
        "## Alpha data"
      ],
      "metadata": {
        "id": "d4B6AnwQBzbG"
      }
    },
    {
      "cell_type": "code",
      "source": [
        "alpha_data = files.upload()\n",
        "alpha_file_name = list(alpha_data.keys())[0]\n",
        "alpha_file_name"
      ],
      "metadata": {
        "colab": {
          "base_uri": "https://localhost:8080/",
          "height": 91
        },
        "id": "bulgjK3QARQ8",
        "outputId": "ec3cf434-960a-4f3b-a3a2-90b01fec7dca"
      },
      "execution_count": 4,
      "outputs": [
        {
          "output_type": "display_data",
          "data": {
            "text/plain": [
              "<IPython.core.display.HTML object>"
            ],
            "text/html": [
              "\n",
              "     <input type=\"file\" id=\"files-78142da7-7dd0-417b-8a55-75cc4e7bf22a\" name=\"files[]\" multiple disabled\n",
              "        style=\"border:none\" />\n",
              "     <output id=\"result-78142da7-7dd0-417b-8a55-75cc4e7bf22a\">\n",
              "      Upload widget is only available when the cell has been executed in the\n",
              "      current browser session. Please rerun this cell to enable.\n",
              "      </output>\n",
              "      <script>// Copyright 2017 Google LLC\n",
              "//\n",
              "// Licensed under the Apache License, Version 2.0 (the \"License\");\n",
              "// you may not use this file except in compliance with the License.\n",
              "// You may obtain a copy of the License at\n",
              "//\n",
              "//      http://www.apache.org/licenses/LICENSE-2.0\n",
              "//\n",
              "// Unless required by applicable law or agreed to in writing, software\n",
              "// distributed under the License is distributed on an \"AS IS\" BASIS,\n",
              "// WITHOUT WARRANTIES OR CONDITIONS OF ANY KIND, either express or implied.\n",
              "// See the License for the specific language governing permissions and\n",
              "// limitations under the License.\n",
              "\n",
              "/**\n",
              " * @fileoverview Helpers for google.colab Python module.\n",
              " */\n",
              "(function(scope) {\n",
              "function span(text, styleAttributes = {}) {\n",
              "  const element = document.createElement('span');\n",
              "  element.textContent = text;\n",
              "  for (const key of Object.keys(styleAttributes)) {\n",
              "    element.style[key] = styleAttributes[key];\n",
              "  }\n",
              "  return element;\n",
              "}\n",
              "\n",
              "// Max number of bytes which will be uploaded at a time.\n",
              "const MAX_PAYLOAD_SIZE = 100 * 1024;\n",
              "\n",
              "function _uploadFiles(inputId, outputId) {\n",
              "  const steps = uploadFilesStep(inputId, outputId);\n",
              "  const outputElement = document.getElementById(outputId);\n",
              "  // Cache steps on the outputElement to make it available for the next call\n",
              "  // to uploadFilesContinue from Python.\n",
              "  outputElement.steps = steps;\n",
              "\n",
              "  return _uploadFilesContinue(outputId);\n",
              "}\n",
              "\n",
              "// This is roughly an async generator (not supported in the browser yet),\n",
              "// where there are multiple asynchronous steps and the Python side is going\n",
              "// to poll for completion of each step.\n",
              "// This uses a Promise to block the python side on completion of each step,\n",
              "// then passes the result of the previous step as the input to the next step.\n",
              "function _uploadFilesContinue(outputId) {\n",
              "  const outputElement = document.getElementById(outputId);\n",
              "  const steps = outputElement.steps;\n",
              "\n",
              "  const next = steps.next(outputElement.lastPromiseValue);\n",
              "  return Promise.resolve(next.value.promise).then((value) => {\n",
              "    // Cache the last promise value to make it available to the next\n",
              "    // step of the generator.\n",
              "    outputElement.lastPromiseValue = value;\n",
              "    return next.value.response;\n",
              "  });\n",
              "}\n",
              "\n",
              "/**\n",
              " * Generator function which is called between each async step of the upload\n",
              " * process.\n",
              " * @param {string} inputId Element ID of the input file picker element.\n",
              " * @param {string} outputId Element ID of the output display.\n",
              " * @return {!Iterable<!Object>} Iterable of next steps.\n",
              " */\n",
              "function* uploadFilesStep(inputId, outputId) {\n",
              "  const inputElement = document.getElementById(inputId);\n",
              "  inputElement.disabled = false;\n",
              "\n",
              "  const outputElement = document.getElementById(outputId);\n",
              "  outputElement.innerHTML = '';\n",
              "\n",
              "  const pickedPromise = new Promise((resolve) => {\n",
              "    inputElement.addEventListener('change', (e) => {\n",
              "      resolve(e.target.files);\n",
              "    });\n",
              "  });\n",
              "\n",
              "  const cancel = document.createElement('button');\n",
              "  inputElement.parentElement.appendChild(cancel);\n",
              "  cancel.textContent = 'Cancel upload';\n",
              "  const cancelPromise = new Promise((resolve) => {\n",
              "    cancel.onclick = () => {\n",
              "      resolve(null);\n",
              "    };\n",
              "  });\n",
              "\n",
              "  // Wait for the user to pick the files.\n",
              "  const files = yield {\n",
              "    promise: Promise.race([pickedPromise, cancelPromise]),\n",
              "    response: {\n",
              "      action: 'starting',\n",
              "    }\n",
              "  };\n",
              "\n",
              "  cancel.remove();\n",
              "\n",
              "  // Disable the input element since further picks are not allowed.\n",
              "  inputElement.disabled = true;\n",
              "\n",
              "  if (!files) {\n",
              "    return {\n",
              "      response: {\n",
              "        action: 'complete',\n",
              "      }\n",
              "    };\n",
              "  }\n",
              "\n",
              "  for (const file of files) {\n",
              "    const li = document.createElement('li');\n",
              "    li.append(span(file.name, {fontWeight: 'bold'}));\n",
              "    li.append(span(\n",
              "        `(${file.type || 'n/a'}) - ${file.size} bytes, ` +\n",
              "        `last modified: ${\n",
              "            file.lastModifiedDate ? file.lastModifiedDate.toLocaleDateString() :\n",
              "                                    'n/a'} - `));\n",
              "    const percent = span('0% done');\n",
              "    li.appendChild(percent);\n",
              "\n",
              "    outputElement.appendChild(li);\n",
              "\n",
              "    const fileDataPromise = new Promise((resolve) => {\n",
              "      const reader = new FileReader();\n",
              "      reader.onload = (e) => {\n",
              "        resolve(e.target.result);\n",
              "      };\n",
              "      reader.readAsArrayBuffer(file);\n",
              "    });\n",
              "    // Wait for the data to be ready.\n",
              "    let fileData = yield {\n",
              "      promise: fileDataPromise,\n",
              "      response: {\n",
              "        action: 'continue',\n",
              "      }\n",
              "    };\n",
              "\n",
              "    // Use a chunked sending to avoid message size limits. See b/62115660.\n",
              "    let position = 0;\n",
              "    do {\n",
              "      const length = Math.min(fileData.byteLength - position, MAX_PAYLOAD_SIZE);\n",
              "      const chunk = new Uint8Array(fileData, position, length);\n",
              "      position += length;\n",
              "\n",
              "      const base64 = btoa(String.fromCharCode.apply(null, chunk));\n",
              "      yield {\n",
              "        response: {\n",
              "          action: 'append',\n",
              "          file: file.name,\n",
              "          data: base64,\n",
              "        },\n",
              "      };\n",
              "\n",
              "      let percentDone = fileData.byteLength === 0 ?\n",
              "          100 :\n",
              "          Math.round((position / fileData.byteLength) * 100);\n",
              "      percent.textContent = `${percentDone}% done`;\n",
              "\n",
              "    } while (position < fileData.byteLength);\n",
              "  }\n",
              "\n",
              "  // All done.\n",
              "  yield {\n",
              "    response: {\n",
              "      action: 'complete',\n",
              "    }\n",
              "  };\n",
              "}\n",
              "\n",
              "scope.google = scope.google || {};\n",
              "scope.google.colab = scope.google.colab || {};\n",
              "scope.google.colab._files = {\n",
              "  _uploadFiles,\n",
              "  _uploadFilesContinue,\n",
              "};\n",
              "})(self);\n",
              "</script> "
            ]
          },
          "metadata": {}
        },
        {
          "output_type": "stream",
          "name": "stdout",
          "text": [
            "Saving Vision_21_alpha.txt to Vision_21_alpha.txt\n"
          ]
        },
        {
          "output_type": "execute_result",
          "data": {
            "text/plain": [
              "'Vision_21_alpha.txt'"
            ],
            "application/vnd.google.colaboratory.intrinsic+json": {
              "type": "string"
            }
          },
          "metadata": {},
          "execution_count": 4
        }
      ]
    },
    {
      "cell_type": "code",
      "source": [
        "alpha = dict()\n",
        "with open(alpha_file_name) as f:\n",
        "    lines = f.readlines()\n",
        "    for line in lines:\n",
        "      a,b,c = line.replace('\\n','').split(' ')\n",
        "      a = int(a)\n",
        "      b = int(b)\n",
        "      c = int(c)\n",
        "      alpha[(a-1,b-1)] = c\n",
        "#alpha"
      ],
      "metadata": {
        "id": "-MlXWL7z_Qsg"
      },
      "execution_count": 5,
      "outputs": []
    },
    {
      "cell_type": "markdown",
      "source": [
        "## Beta data"
      ],
      "metadata": {
        "id": "_BUEX0pLB1Tx"
      }
    },
    {
      "cell_type": "code",
      "source": [
        "beta_data = files.upload()\n",
        "beta_file_name = list(beta_data.keys())[0]\n",
        "beta_file_name"
      ],
      "metadata": {
        "colab": {
          "base_uri": "https://localhost:8080/",
          "height": 91
        },
        "id": "fiBWvFBBB2j1",
        "outputId": "fbf8b6da-52ab-46b0-ffba-a86c643c5bf0"
      },
      "execution_count": 6,
      "outputs": [
        {
          "output_type": "display_data",
          "data": {
            "text/plain": [
              "<IPython.core.display.HTML object>"
            ],
            "text/html": [
              "\n",
              "     <input type=\"file\" id=\"files-66366879-0223-4cb1-8a89-2e063ab49293\" name=\"files[]\" multiple disabled\n",
              "        style=\"border:none\" />\n",
              "     <output id=\"result-66366879-0223-4cb1-8a89-2e063ab49293\">\n",
              "      Upload widget is only available when the cell has been executed in the\n",
              "      current browser session. Please rerun this cell to enable.\n",
              "      </output>\n",
              "      <script>// Copyright 2017 Google LLC\n",
              "//\n",
              "// Licensed under the Apache License, Version 2.0 (the \"License\");\n",
              "// you may not use this file except in compliance with the License.\n",
              "// You may obtain a copy of the License at\n",
              "//\n",
              "//      http://www.apache.org/licenses/LICENSE-2.0\n",
              "//\n",
              "// Unless required by applicable law or agreed to in writing, software\n",
              "// distributed under the License is distributed on an \"AS IS\" BASIS,\n",
              "// WITHOUT WARRANTIES OR CONDITIONS OF ANY KIND, either express or implied.\n",
              "// See the License for the specific language governing permissions and\n",
              "// limitations under the License.\n",
              "\n",
              "/**\n",
              " * @fileoverview Helpers for google.colab Python module.\n",
              " */\n",
              "(function(scope) {\n",
              "function span(text, styleAttributes = {}) {\n",
              "  const element = document.createElement('span');\n",
              "  element.textContent = text;\n",
              "  for (const key of Object.keys(styleAttributes)) {\n",
              "    element.style[key] = styleAttributes[key];\n",
              "  }\n",
              "  return element;\n",
              "}\n",
              "\n",
              "// Max number of bytes which will be uploaded at a time.\n",
              "const MAX_PAYLOAD_SIZE = 100 * 1024;\n",
              "\n",
              "function _uploadFiles(inputId, outputId) {\n",
              "  const steps = uploadFilesStep(inputId, outputId);\n",
              "  const outputElement = document.getElementById(outputId);\n",
              "  // Cache steps on the outputElement to make it available for the next call\n",
              "  // to uploadFilesContinue from Python.\n",
              "  outputElement.steps = steps;\n",
              "\n",
              "  return _uploadFilesContinue(outputId);\n",
              "}\n",
              "\n",
              "// This is roughly an async generator (not supported in the browser yet),\n",
              "// where there are multiple asynchronous steps and the Python side is going\n",
              "// to poll for completion of each step.\n",
              "// This uses a Promise to block the python side on completion of each step,\n",
              "// then passes the result of the previous step as the input to the next step.\n",
              "function _uploadFilesContinue(outputId) {\n",
              "  const outputElement = document.getElementById(outputId);\n",
              "  const steps = outputElement.steps;\n",
              "\n",
              "  const next = steps.next(outputElement.lastPromiseValue);\n",
              "  return Promise.resolve(next.value.promise).then((value) => {\n",
              "    // Cache the last promise value to make it available to the next\n",
              "    // step of the generator.\n",
              "    outputElement.lastPromiseValue = value;\n",
              "    return next.value.response;\n",
              "  });\n",
              "}\n",
              "\n",
              "/**\n",
              " * Generator function which is called between each async step of the upload\n",
              " * process.\n",
              " * @param {string} inputId Element ID of the input file picker element.\n",
              " * @param {string} outputId Element ID of the output display.\n",
              " * @return {!Iterable<!Object>} Iterable of next steps.\n",
              " */\n",
              "function* uploadFilesStep(inputId, outputId) {\n",
              "  const inputElement = document.getElementById(inputId);\n",
              "  inputElement.disabled = false;\n",
              "\n",
              "  const outputElement = document.getElementById(outputId);\n",
              "  outputElement.innerHTML = '';\n",
              "\n",
              "  const pickedPromise = new Promise((resolve) => {\n",
              "    inputElement.addEventListener('change', (e) => {\n",
              "      resolve(e.target.files);\n",
              "    });\n",
              "  });\n",
              "\n",
              "  const cancel = document.createElement('button');\n",
              "  inputElement.parentElement.appendChild(cancel);\n",
              "  cancel.textContent = 'Cancel upload';\n",
              "  const cancelPromise = new Promise((resolve) => {\n",
              "    cancel.onclick = () => {\n",
              "      resolve(null);\n",
              "    };\n",
              "  });\n",
              "\n",
              "  // Wait for the user to pick the files.\n",
              "  const files = yield {\n",
              "    promise: Promise.race([pickedPromise, cancelPromise]),\n",
              "    response: {\n",
              "      action: 'starting',\n",
              "    }\n",
              "  };\n",
              "\n",
              "  cancel.remove();\n",
              "\n",
              "  // Disable the input element since further picks are not allowed.\n",
              "  inputElement.disabled = true;\n",
              "\n",
              "  if (!files) {\n",
              "    return {\n",
              "      response: {\n",
              "        action: 'complete',\n",
              "      }\n",
              "    };\n",
              "  }\n",
              "\n",
              "  for (const file of files) {\n",
              "    const li = document.createElement('li');\n",
              "    li.append(span(file.name, {fontWeight: 'bold'}));\n",
              "    li.append(span(\n",
              "        `(${file.type || 'n/a'}) - ${file.size} bytes, ` +\n",
              "        `last modified: ${\n",
              "            file.lastModifiedDate ? file.lastModifiedDate.toLocaleDateString() :\n",
              "                                    'n/a'} - `));\n",
              "    const percent = span('0% done');\n",
              "    li.appendChild(percent);\n",
              "\n",
              "    outputElement.appendChild(li);\n",
              "\n",
              "    const fileDataPromise = new Promise((resolve) => {\n",
              "      const reader = new FileReader();\n",
              "      reader.onload = (e) => {\n",
              "        resolve(e.target.result);\n",
              "      };\n",
              "      reader.readAsArrayBuffer(file);\n",
              "    });\n",
              "    // Wait for the data to be ready.\n",
              "    let fileData = yield {\n",
              "      promise: fileDataPromise,\n",
              "      response: {\n",
              "        action: 'continue',\n",
              "      }\n",
              "    };\n",
              "\n",
              "    // Use a chunked sending to avoid message size limits. See b/62115660.\n",
              "    let position = 0;\n",
              "    do {\n",
              "      const length = Math.min(fileData.byteLength - position, MAX_PAYLOAD_SIZE);\n",
              "      const chunk = new Uint8Array(fileData, position, length);\n",
              "      position += length;\n",
              "\n",
              "      const base64 = btoa(String.fromCharCode.apply(null, chunk));\n",
              "      yield {\n",
              "        response: {\n",
              "          action: 'append',\n",
              "          file: file.name,\n",
              "          data: base64,\n",
              "        },\n",
              "      };\n",
              "\n",
              "      let percentDone = fileData.byteLength === 0 ?\n",
              "          100 :\n",
              "          Math.round((position / fileData.byteLength) * 100);\n",
              "      percent.textContent = `${percentDone}% done`;\n",
              "\n",
              "    } while (position < fileData.byteLength);\n",
              "  }\n",
              "\n",
              "  // All done.\n",
              "  yield {\n",
              "    response: {\n",
              "      action: 'complete',\n",
              "    }\n",
              "  };\n",
              "}\n",
              "\n",
              "scope.google = scope.google || {};\n",
              "scope.google.colab = scope.google.colab || {};\n",
              "scope.google.colab._files = {\n",
              "  _uploadFiles,\n",
              "  _uploadFilesContinue,\n",
              "};\n",
              "})(self);\n",
              "</script> "
            ]
          },
          "metadata": {}
        },
        {
          "output_type": "stream",
          "name": "stdout",
          "text": [
            "Saving Vision_21_beta.txt to Vision_21_beta.txt\n"
          ]
        },
        {
          "output_type": "execute_result",
          "data": {
            "text/plain": [
              "'Vision_21_beta.txt'"
            ],
            "application/vnd.google.colaboratory.intrinsic+json": {
              "type": "string"
            }
          },
          "metadata": {},
          "execution_count": 6
        }
      ]
    },
    {
      "cell_type": "code",
      "source": [
        "n_students = 0\n",
        "with open(beta_file_name) as f:\n",
        "    lines = f.readlines()\n",
        "    first_line = lines[0].split(' ')\n",
        "    #print(first_line)\n",
        "    n_features = len(first_line)\n",
        "    #print(n_features)\n",
        "    beta = [[] for x in range(n_features)]\n",
        "    for line in lines:\n",
        "      n_students +=1\n",
        "      line = line.replace('\\n','').split(' ')\n",
        "      for i in range(n_features):\n",
        "        beta[i].append(int(line[i]))"
      ],
      "metadata": {
        "id": "TpPkon1gB8H_"
      },
      "execution_count": 7,
      "outputs": []
    },
    {
      "cell_type": "code",
      "source": [
        "for i in range(n_students):\n",
        "  for j in range(n_students):\n",
        "    if i==j:\n",
        "      alpha[(i,j)] = 0"
      ],
      "metadata": {
        "id": "TtG7gqjDNsJT"
      },
      "execution_count": 8,
      "outputs": []
    },
    {
      "cell_type": "code",
      "source": [
        "#alpha"
      ],
      "metadata": {
        "id": "Y3egBXJoNsJU"
      },
      "execution_count": null,
      "outputs": []
    },
    {
      "cell_type": "markdown",
      "source": [
        "## Theta data"
      ],
      "metadata": {
        "id": "PJnxDYpLHTk-"
      }
    },
    {
      "cell_type": "code",
      "source": [
        "theta_data = files.upload()\n",
        "theta_file_name = list(theta_data.keys())[0]\n",
        "theta_file_name"
      ],
      "metadata": {
        "colab": {
          "base_uri": "https://localhost:8080/",
          "height": 91
        },
        "id": "aHDkKyW8HUlg",
        "outputId": "54fb2857-12a7-4af0-b098-f66f7c5bd572"
      },
      "execution_count": 9,
      "outputs": [
        {
          "output_type": "display_data",
          "data": {
            "text/plain": [
              "<IPython.core.display.HTML object>"
            ],
            "text/html": [
              "\n",
              "     <input type=\"file\" id=\"files-94a730b2-3378-4dbf-bd6d-1d5aa28d3c78\" name=\"files[]\" multiple disabled\n",
              "        style=\"border:none\" />\n",
              "     <output id=\"result-94a730b2-3378-4dbf-bd6d-1d5aa28d3c78\">\n",
              "      Upload widget is only available when the cell has been executed in the\n",
              "      current browser session. Please rerun this cell to enable.\n",
              "      </output>\n",
              "      <script>// Copyright 2017 Google LLC\n",
              "//\n",
              "// Licensed under the Apache License, Version 2.0 (the \"License\");\n",
              "// you may not use this file except in compliance with the License.\n",
              "// You may obtain a copy of the License at\n",
              "//\n",
              "//      http://www.apache.org/licenses/LICENSE-2.0\n",
              "//\n",
              "// Unless required by applicable law or agreed to in writing, software\n",
              "// distributed under the License is distributed on an \"AS IS\" BASIS,\n",
              "// WITHOUT WARRANTIES OR CONDITIONS OF ANY KIND, either express or implied.\n",
              "// See the License for the specific language governing permissions and\n",
              "// limitations under the License.\n",
              "\n",
              "/**\n",
              " * @fileoverview Helpers for google.colab Python module.\n",
              " */\n",
              "(function(scope) {\n",
              "function span(text, styleAttributes = {}) {\n",
              "  const element = document.createElement('span');\n",
              "  element.textContent = text;\n",
              "  for (const key of Object.keys(styleAttributes)) {\n",
              "    element.style[key] = styleAttributes[key];\n",
              "  }\n",
              "  return element;\n",
              "}\n",
              "\n",
              "// Max number of bytes which will be uploaded at a time.\n",
              "const MAX_PAYLOAD_SIZE = 100 * 1024;\n",
              "\n",
              "function _uploadFiles(inputId, outputId) {\n",
              "  const steps = uploadFilesStep(inputId, outputId);\n",
              "  const outputElement = document.getElementById(outputId);\n",
              "  // Cache steps on the outputElement to make it available for the next call\n",
              "  // to uploadFilesContinue from Python.\n",
              "  outputElement.steps = steps;\n",
              "\n",
              "  return _uploadFilesContinue(outputId);\n",
              "}\n",
              "\n",
              "// This is roughly an async generator (not supported in the browser yet),\n",
              "// where there are multiple asynchronous steps and the Python side is going\n",
              "// to poll for completion of each step.\n",
              "// This uses a Promise to block the python side on completion of each step,\n",
              "// then passes the result of the previous step as the input to the next step.\n",
              "function _uploadFilesContinue(outputId) {\n",
              "  const outputElement = document.getElementById(outputId);\n",
              "  const steps = outputElement.steps;\n",
              "\n",
              "  const next = steps.next(outputElement.lastPromiseValue);\n",
              "  return Promise.resolve(next.value.promise).then((value) => {\n",
              "    // Cache the last promise value to make it available to the next\n",
              "    // step of the generator.\n",
              "    outputElement.lastPromiseValue = value;\n",
              "    return next.value.response;\n",
              "  });\n",
              "}\n",
              "\n",
              "/**\n",
              " * Generator function which is called between each async step of the upload\n",
              " * process.\n",
              " * @param {string} inputId Element ID of the input file picker element.\n",
              " * @param {string} outputId Element ID of the output display.\n",
              " * @return {!Iterable<!Object>} Iterable of next steps.\n",
              " */\n",
              "function* uploadFilesStep(inputId, outputId) {\n",
              "  const inputElement = document.getElementById(inputId);\n",
              "  inputElement.disabled = false;\n",
              "\n",
              "  const outputElement = document.getElementById(outputId);\n",
              "  outputElement.innerHTML = '';\n",
              "\n",
              "  const pickedPromise = new Promise((resolve) => {\n",
              "    inputElement.addEventListener('change', (e) => {\n",
              "      resolve(e.target.files);\n",
              "    });\n",
              "  });\n",
              "\n",
              "  const cancel = document.createElement('button');\n",
              "  inputElement.parentElement.appendChild(cancel);\n",
              "  cancel.textContent = 'Cancel upload';\n",
              "  const cancelPromise = new Promise((resolve) => {\n",
              "    cancel.onclick = () => {\n",
              "      resolve(null);\n",
              "    };\n",
              "  });\n",
              "\n",
              "  // Wait for the user to pick the files.\n",
              "  const files = yield {\n",
              "    promise: Promise.race([pickedPromise, cancelPromise]),\n",
              "    response: {\n",
              "      action: 'starting',\n",
              "    }\n",
              "  };\n",
              "\n",
              "  cancel.remove();\n",
              "\n",
              "  // Disable the input element since further picks are not allowed.\n",
              "  inputElement.disabled = true;\n",
              "\n",
              "  if (!files) {\n",
              "    return {\n",
              "      response: {\n",
              "        action: 'complete',\n",
              "      }\n",
              "    };\n",
              "  }\n",
              "\n",
              "  for (const file of files) {\n",
              "    const li = document.createElement('li');\n",
              "    li.append(span(file.name, {fontWeight: 'bold'}));\n",
              "    li.append(span(\n",
              "        `(${file.type || 'n/a'}) - ${file.size} bytes, ` +\n",
              "        `last modified: ${\n",
              "            file.lastModifiedDate ? file.lastModifiedDate.toLocaleDateString() :\n",
              "                                    'n/a'} - `));\n",
              "    const percent = span('0% done');\n",
              "    li.appendChild(percent);\n",
              "\n",
              "    outputElement.appendChild(li);\n",
              "\n",
              "    const fileDataPromise = new Promise((resolve) => {\n",
              "      const reader = new FileReader();\n",
              "      reader.onload = (e) => {\n",
              "        resolve(e.target.result);\n",
              "      };\n",
              "      reader.readAsArrayBuffer(file);\n",
              "    });\n",
              "    // Wait for the data to be ready.\n",
              "    let fileData = yield {\n",
              "      promise: fileDataPromise,\n",
              "      response: {\n",
              "        action: 'continue',\n",
              "      }\n",
              "    };\n",
              "\n",
              "    // Use a chunked sending to avoid message size limits. See b/62115660.\n",
              "    let position = 0;\n",
              "    do {\n",
              "      const length = Math.min(fileData.byteLength - position, MAX_PAYLOAD_SIZE);\n",
              "      const chunk = new Uint8Array(fileData, position, length);\n",
              "      position += length;\n",
              "\n",
              "      const base64 = btoa(String.fromCharCode.apply(null, chunk));\n",
              "      yield {\n",
              "        response: {\n",
              "          action: 'append',\n",
              "          file: file.name,\n",
              "          data: base64,\n",
              "        },\n",
              "      };\n",
              "\n",
              "      let percentDone = fileData.byteLength === 0 ?\n",
              "          100 :\n",
              "          Math.round((position / fileData.byteLength) * 100);\n",
              "      percent.textContent = `${percentDone}% done`;\n",
              "\n",
              "    } while (position < fileData.byteLength);\n",
              "  }\n",
              "\n",
              "  // All done.\n",
              "  yield {\n",
              "    response: {\n",
              "      action: 'complete',\n",
              "    }\n",
              "  };\n",
              "}\n",
              "\n",
              "scope.google = scope.google || {};\n",
              "scope.google.colab = scope.google.colab || {};\n",
              "scope.google.colab._files = {\n",
              "  _uploadFiles,\n",
              "  _uploadFilesContinue,\n",
              "};\n",
              "})(self);\n",
              "</script> "
            ]
          },
          "metadata": {}
        },
        {
          "output_type": "stream",
          "name": "stdout",
          "text": [
            "Saving Vision_21_theta.txt to Vision_21_theta.txt\n"
          ]
        },
        {
          "output_type": "execute_result",
          "data": {
            "text/plain": [
              "'Vision_21_theta.txt'"
            ],
            "application/vnd.google.colaboratory.intrinsic+json": {
              "type": "string"
            }
          },
          "metadata": {},
          "execution_count": 9
        }
      ]
    },
    {
      "cell_type": "code",
      "source": [
        "theta = []\n",
        "with open(theta_file_name) as f:\n",
        "    lines = f.readlines()\n",
        "    for line in lines:\n",
        "      theta.append(int(line.replace('\\n','')))\n",
        "theta"
      ],
      "metadata": {
        "colab": {
          "base_uri": "https://localhost:8080/"
        },
        "id": "ykZEKs_zH8i0",
        "outputId": "245f4416-0dde-48d6-86b9-34cbeeedf3a1"
      },
      "execution_count": 10,
      "outputs": [
        {
          "output_type": "execute_result",
          "data": {
            "text/plain": [
              "[3, 3, 4, 8]"
            ]
          },
          "metadata": {},
          "execution_count": 10
        }
      ]
    },
    {
      "cell_type": "code",
      "source": [
        "beta_max = [theta[x] for x in range(n_features)]\n",
        "tao_min = theta[-2]\n",
        "tao_max = theta[-1]"
      ],
      "metadata": {
        "id": "rh--YUEUItHu"
      },
      "execution_count": 11,
      "outputs": []
    },
    {
      "cell_type": "markdown",
      "source": [
        "## Check problem inputs"
      ],
      "metadata": {
        "id": "0rE7FJauJPzC"
      }
    },
    {
      "cell_type": "code",
      "source": [
        "n_groups = 3"
      ],
      "metadata": {
        "id": "bMEl6vXlJULh"
      },
      "execution_count": 12,
      "outputs": []
    },
    {
      "cell_type": "code",
      "source": [
        "print(f'Arrange classroom of {n_students} students, into {n_groups} groups of min group \\\n",
        "size: {tao_min} and max group size: {tao_max}')"
      ],
      "metadata": {
        "colab": {
          "base_uri": "https://localhost:8080/"
        },
        "id": "AJvLwHXfI6Bg",
        "outputId": "122e3088-1ced-4ecc-decf-805e39b5ddf7"
      },
      "execution_count": 13,
      "outputs": [
        {
          "output_type": "stream",
          "name": "stdout",
          "text": [
            "Arrange classroom of 21 students, into 3 groups of min group size: 4 and max group size: 8\n"
          ]
        }
      ]
    },
    {
      "cell_type": "markdown",
      "source": [
        "# DWAVE Initializing"
      ],
      "metadata": {
        "id": "7HqPa5dvN5aN"
      }
    },
    {
      "cell_type": "code",
      "source": [
        "endpoint = 'https://cloud.dwavesys.com/sapi'\n",
        "token = userdata.get('dwave_leap')"
      ],
      "metadata": {
        "id": "-_8cybvx17tP"
      },
      "execution_count": 25,
      "outputs": []
    },
    {
      "cell_type": "code",
      "source": [
        "N,C = range(n_students),range(n_groups)"
      ],
      "metadata": {
        "id": "PyxLYprdM9MB"
      },
      "execution_count": 26,
      "outputs": []
    },
    {
      "cell_type": "markdown",
      "source": [
        "# Creating Model"
      ],
      "metadata": {
        "id": "r8OghDAVN_YJ"
      }
    },
    {
      "cell_type": "code",
      "source": [
        "cqm = ConstrainedQuadraticModel()"
      ],
      "metadata": {
        "id": "SoxL7YTZLqNl"
      },
      "execution_count": 27,
      "outputs": []
    },
    {
      "cell_type": "markdown",
      "source": [
        "## Creating the variables"
      ],
      "metadata": {
        "id": "qOmOa4d6NQ6m"
      }
    },
    {
      "cell_type": "code",
      "source": [
        "x = {(i, c): Binary(f'x{i}_{c}') for i in range(n_students) for c in range(n_groups)}"
      ],
      "metadata": {
        "id": "iyzTlAaPLvil"
      },
      "execution_count": 28,
      "outputs": []
    },
    {
      "cell_type": "markdown",
      "source": [
        "## Creating the objective function"
      ],
      "metadata": {
        "id": "chop6OwwX2Vu"
      }
    },
    {
      "cell_type": "code",
      "source": [
        "objective = -1*quicksum(x[i,c]*x[j,c]*alpha.get((i,j),0) for i in N for j in N for c in C)\n",
        "cqm.set_objective(objective)"
      ],
      "metadata": {
        "id": "5cNwn-dEX5qr"
      },
      "execution_count": 29,
      "outputs": []
    },
    {
      "cell_type": "markdown",
      "source": [
        "## Creating the constraints"
      ],
      "metadata": {
        "id": "khcoQ2rgX-j4"
      }
    },
    {
      "cell_type": "code",
      "source": [
        "# one student per group\n",
        "\n",
        "for i in N:\n",
        "  cqm.add_constraint( quicksum(x[i,c] for c in C) == 1 )"
      ],
      "metadata": {
        "id": "JoaEJvssYBQU"
      },
      "execution_count": 30,
      "outputs": []
    },
    {
      "cell_type": "code",
      "source": [
        "# minimum students per group >= tao_min\n",
        "# Maximum students per group <= tao_max\n",
        "\n",
        "for c in C:\n",
        "  cqm.add_constraint( quicksum(x[i,c] for i in N) >= tao_min )\n",
        "  cqm.add_constraint( quicksum(x[i,c] for i in N) <= tao_max )"
      ],
      "metadata": {
        "id": "rWSbJ2TzYD5G"
      },
      "execution_count": 31,
      "outputs": []
    },
    {
      "cell_type": "code",
      "source": [
        "# Beta homegeinity constraints\n",
        "group_combs = [(c,cp) for c in C for cp in C if c!=cp]"
      ],
      "metadata": {
        "id": "CTkVK9IeYF2P"
      },
      "execution_count": 32,
      "outputs": []
    },
    {
      "cell_type": "code",
      "source": [
        "for c1,c2 in group_combs:\n",
        "  for f in range(n_features):\n",
        "    bf = beta[f]\n",
        "    B = beta_max[f]\n",
        "    cqm.add_constraint( quicksum(x[i,c1]*bf[i] for i in N) - quicksum(x[i,c2]*bf[i] for i in N) <= B )"
      ],
      "metadata": {
        "id": "Fs0-5qeLYS6u"
      },
      "execution_count": 33,
      "outputs": []
    },
    {
      "cell_type": "markdown",
      "source": [
        "## Run the model"
      ],
      "metadata": {
        "id": "QBkgMZovZCsR"
      }
    },
    {
      "cell_type": "code",
      "source": [
        "counter = 1\n",
        "while True:\n",
        "  try:\n",
        "    cqm_sampler = LeapHybridCQMSampler(endpoint=endpoint, token=token)\n",
        "  except:\n",
        "    if counter <= 5:\n",
        "      print(f\"{counter} -  Problem finding embedding trying it once again...\")\n",
        "      counter += 1\n",
        "      continue\n",
        "    else:\n",
        "      raise Exception(f\"Imposible to find an embedding after {counter} tries\")\n",
        "  break"
      ],
      "metadata": {
        "id": "bU3CPrF4Obwq"
      },
      "execution_count": 34,
      "outputs": []
    },
    {
      "cell_type": "code",
      "source": [
        "sampleset = cqm_sampler.sample_cqm(cqm,label = f'CGFP_min_sum_{n_students}')"
      ],
      "metadata": {
        "id": "NrCGEa_2POav"
      },
      "execution_count": 35,
      "outputs": []
    },
    {
      "cell_type": "code",
      "source": [
        "feasible_sampleset = sampleset.filter(lambda row: row.is_feasible)"
      ],
      "metadata": {
        "id": "CVsZ_CWYNDzb"
      },
      "execution_count": 36,
      "outputs": []
    },
    {
      "cell_type": "code",
      "source": [
        "not_feasible_sampleset = sampleset.filter(lambda row: not row.is_feasible)"
      ],
      "metadata": {
        "id": "xajW4X2c2dlJ"
      },
      "execution_count": 45,
      "outputs": []
    },
    {
      "cell_type": "code",
      "source": [
        "best = feasible_sampleset.first"
      ],
      "metadata": {
        "id": "vdLcU1zKNFIC"
      },
      "execution_count": 37,
      "outputs": []
    },
    {
      "cell_type": "code",
      "source": [
        "best_solution = best.sample"
      ],
      "metadata": {
        "id": "5VUDPMzTNUM9"
      },
      "execution_count": 38,
      "outputs": []
    },
    {
      "cell_type": "markdown",
      "source": [
        "# Verify constraints"
      ],
      "metadata": {
        "id": "G8femFzagZHi"
      }
    },
    {
      "cell_type": "code",
      "source": [
        "def verify_constraints(sample,print_all = False,verbose = False):\n",
        "\n",
        "  violated = 0\n",
        "\n",
        "  for i in N:\n",
        "    just_one = [sample[f'x{i}_{c}'] for c in C]\n",
        "    if sum(just_one) != 1:\n",
        "      violated += 1\n",
        "      if verbose:\n",
        "        print(f'Individual {i} with {sum(just_one)} assignments')\n",
        "    if verbose:\n",
        "      if print_all:\n",
        "        print(f'Individual {i} with {sum(just_one)} assignments')\n",
        "\n",
        "  GROUPS = [ []  for g in C]\n",
        "  for var in sample:\n",
        "    if 'eta' in var:\n",
        "      continue\n",
        "    if sample[var]==1:\n",
        "      st,g = var[1:].split('_')\n",
        "      st = int(st)\n",
        "      g = int(g)\n",
        "      GROUPS[g].append(st)\n",
        "      # print(f'student_{st} belongs to group {g}')\n",
        "\n",
        "  for i,g in enumerate(GROUPS):\n",
        "    spg = len(g)\n",
        "    valid = spg >= tao_min and spg <= tao_max\n",
        "    if not valid:\n",
        "      violated += 1\n",
        "      if verbose:\n",
        "        print(f'* number of members of group_{i}: ({tao_min} <= {len(g)} <= {tao_max}), valid = {valid}')\n",
        "    if verbose:\n",
        "      if print_all:\n",
        "        print(f'* number of members of group_{i}: ({tao_min} <= {len(g)} <= {tao_max}), valid = {valid}')\n",
        "  for c1,c2 in group_combs:\n",
        "\n",
        "    G1 = GROUPS[c1]\n",
        "    G2 = GROUPS[c2]\n",
        "    for f in range(n_features):\n",
        "      bf = beta[f]\n",
        "      B = beta_max[f]\n",
        "      val1 = sum([bf[x] for x in G1])\n",
        "      val2 = sum([bf[x] for x in G2])\n",
        "      subs = val1 - val2\n",
        "      valid = subs >= -B and subs <= B\n",
        "\n",
        "      if not valid:\n",
        "        violated += 1\n",
        "        if verbose:\n",
        "          print(f'(g{c1},g{c2}) feature = {f},| {-B} <= {subs} <= {B}| valid = {valid} ')\n",
        "      if verbose:\n",
        "        if print_all:\n",
        "          print(f'(g{c1},g{c2}) feature = {f},| {-B} <= {subs} <= {B}| valid = {valid} ')\n",
        "  return violated"
      ],
      "metadata": {
        "id": "GvYCeT7etVVC"
      },
      "execution_count": 39,
      "outputs": []
    },
    {
      "cell_type": "code",
      "source": [
        "GROUPS = [ []  for g in C]\n",
        "for var in best_solution:\n",
        "  if best_solution[var]==1:\n",
        "    st,g = var[1:].split('_')\n",
        "    st = int(st)\n",
        "    g = int(g)\n",
        "    GROUPS[g].append(st)\n",
        "    print(f'student_{st} belongs to group {g}')"
      ],
      "metadata": {
        "colab": {
          "base_uri": "https://localhost:8080/"
        },
        "id": "wtEcTWoyganr",
        "outputId": "9848a368-ba37-4647-b06b-e45033f6415c"
      },
      "execution_count": 40,
      "outputs": [
        {
          "output_type": "stream",
          "name": "stdout",
          "text": [
            "student_0 belongs to group 1\n",
            "student_10 belongs to group 2\n",
            "student_11 belongs to group 0\n",
            "student_12 belongs to group 2\n",
            "student_13 belongs to group 0\n",
            "student_14 belongs to group 2\n",
            "student_15 belongs to group 0\n",
            "student_16 belongs to group 1\n",
            "student_17 belongs to group 0\n",
            "student_18 belongs to group 0\n",
            "student_19 belongs to group 2\n",
            "student_1 belongs to group 2\n",
            "student_20 belongs to group 2\n",
            "student_2 belongs to group 2\n",
            "student_3 belongs to group 1\n",
            "student_4 belongs to group 0\n",
            "student_5 belongs to group 2\n",
            "student_6 belongs to group 1\n",
            "student_7 belongs to group 1\n",
            "student_8 belongs to group 1\n",
            "student_9 belongs to group 1\n"
          ]
        }
      ]
    },
    {
      "cell_type": "code",
      "source": [
        "for i,g in enumerate(GROUPS):\n",
        "  spg = len(g)\n",
        "  valid = spg >= tao_min and spg <= tao_max\n",
        "  print(f'* number of members of group_{i}: ({tao_min} <= {len(g)} <= {tao_max}), valid = {valid}')"
      ],
      "metadata": {
        "colab": {
          "base_uri": "https://localhost:8080/"
        },
        "id": "YCMGkTR4gfO_",
        "outputId": "9b0c9a0c-d304-4b81-85b9-8b467576a9dc"
      },
      "execution_count": 41,
      "outputs": [
        {
          "output_type": "stream",
          "name": "stdout",
          "text": [
            "* number of members of group_0: (4 <= 6 <= 8), valid = True\n",
            "* number of members of group_1: (4 <= 7 <= 8), valid = True\n",
            "* number of members of group_2: (4 <= 8 <= 8), valid = True\n"
          ]
        }
      ]
    },
    {
      "cell_type": "code",
      "source": [
        "for c1,c2 in group_combs:\n",
        "  #print((c1,c2),GROUPS[c1],GROUPS[c2])\n",
        "  G1 = GROUPS[c1]\n",
        "  G2 = GROUPS[c2]\n",
        "  for f in range(n_features):\n",
        "    bf = beta[f]\n",
        "    B = beta_max[f]\n",
        "    #print(bf)\n",
        "    val1 = sum([bf[x] for x in G1])\n",
        "    val2 = sum([bf[x] for x in G2])\n",
        "    subs = val1 - val2\n",
        "    condition = subs >= -B and subs <= B\n",
        "\n",
        "    print(f'(g{c1},g{c2}) feature = {f},| {-B} <= {subs} <= {B} | valid? = {condition}')"
      ],
      "metadata": {
        "colab": {
          "base_uri": "https://localhost:8080/"
        },
        "id": "Z5CMbQ2dgjSt",
        "outputId": "4b06861b-aa7a-44dd-e49f-9dbd2e194dc0"
      },
      "execution_count": 42,
      "outputs": [
        {
          "output_type": "stream",
          "name": "stdout",
          "text": [
            "(g0,g1) feature = 0,| -3 <= -3 <= 3 | valid? = True\n",
            "(g0,g1) feature = 1,| -3 <= 1 <= 3 | valid? = True\n",
            "(g0,g2) feature = 0,| -3 <= -3 <= 3 | valid? = True\n",
            "(g0,g2) feature = 1,| -3 <= -2 <= 3 | valid? = True\n",
            "(g1,g0) feature = 0,| -3 <= 3 <= 3 | valid? = True\n",
            "(g1,g0) feature = 1,| -3 <= -1 <= 3 | valid? = True\n",
            "(g1,g2) feature = 0,| -3 <= 0 <= 3 | valid? = True\n",
            "(g1,g2) feature = 1,| -3 <= -3 <= 3 | valid? = True\n",
            "(g2,g0) feature = 0,| -3 <= 3 <= 3 | valid? = True\n",
            "(g2,g0) feature = 1,| -3 <= 2 <= 3 | valid? = True\n",
            "(g2,g1) feature = 0,| -3 <= 0 <= 3 | valid? = True\n",
            "(g2,g1) feature = 1,| -3 <= 3 <= 3 | valid? = True\n"
          ]
        }
      ]
    },
    {
      "cell_type": "code",
      "source": [
        "z_obj = 0\n",
        "groups_happiness = []\n",
        "for group in GROUPS:\n",
        "  happy = 0\n",
        "  for s1 in group:\n",
        "    for s2 in group:\n",
        "      if s1 != s2:\n",
        "        happy += alpha.get((s1,s2),0)\n",
        "        z_obj += alpha.get((s1,s2),0)\n",
        "  groups_happiness.append(happy)"
      ],
      "metadata": {
        "id": "xelGyOHFgpBc"
      },
      "execution_count": 43,
      "outputs": []
    },
    {
      "cell_type": "code",
      "source": [
        "for i,g in enumerate(GROUPS):\n",
        "  print(f'group {i}, hapiness = {groups_happiness[i]}')\n",
        "print(f'Total Happiness = {z_obj}')"
      ],
      "metadata": {
        "colab": {
          "base_uri": "https://localhost:8080/"
        },
        "id": "6lUEV8phttmY",
        "outputId": "3ca108b8-e2e1-496a-b466-c2972b12f7fe"
      },
      "execution_count": 44,
      "outputs": [
        {
          "output_type": "stream",
          "name": "stdout",
          "text": [
            "group 0, hapiness = 29\n",
            "group 1, hapiness = 9\n",
            "group 2, hapiness = 22\n",
            "Total Happiness = 60\n"
          ]
        }
      ]
    },
    {
      "cell_type": "markdown",
      "source": [
        "# Verify all not feasible constraints"
      ],
      "metadata": {
        "id": "QQxQILX77CDk"
      }
    },
    {
      "cell_type": "code",
      "source": [
        "for sample in not_feasible_sampleset:\n",
        "  print(verify_constraints(sample))\n",
        "  print(\"-\"*120)"
      ],
      "metadata": {
        "colab": {
          "base_uri": "https://localhost:8080/"
        },
        "id": "zAefkOl37EmL",
        "outputId": "4bb811e2-87bb-407f-a8e6-02004efa14a7"
      },
      "execution_count": 46,
      "outputs": [
        {
          "output_type": "stream",
          "name": "stdout",
          "text": [
            "26\n",
            "------------------------------------------------------------------------------------------------------------------------\n",
            "22\n",
            "------------------------------------------------------------------------------------------------------------------------\n",
            "15\n",
            "------------------------------------------------------------------------------------------------------------------------\n",
            "13\n",
            "------------------------------------------------------------------------------------------------------------------------\n",
            "12\n",
            "------------------------------------------------------------------------------------------------------------------------\n",
            "5\n",
            "------------------------------------------------------------------------------------------------------------------------\n",
            "9\n",
            "------------------------------------------------------------------------------------------------------------------------\n",
            "8\n",
            "------------------------------------------------------------------------------------------------------------------------\n",
            "6\n",
            "------------------------------------------------------------------------------------------------------------------------\n",
            "6\n",
            "------------------------------------------------------------------------------------------------------------------------\n",
            "11\n",
            "------------------------------------------------------------------------------------------------------------------------\n",
            "1\n",
            "------------------------------------------------------------------------------------------------------------------------\n",
            "2\n",
            "------------------------------------------------------------------------------------------------------------------------\n",
            "14\n",
            "------------------------------------------------------------------------------------------------------------------------\n",
            "1\n",
            "------------------------------------------------------------------------------------------------------------------------\n",
            "13\n",
            "------------------------------------------------------------------------------------------------------------------------\n",
            "4\n",
            "------------------------------------------------------------------------------------------------------------------------\n",
            "2\n",
            "------------------------------------------------------------------------------------------------------------------------\n",
            "2\n",
            "------------------------------------------------------------------------------------------------------------------------\n",
            "1\n",
            "------------------------------------------------------------------------------------------------------------------------\n",
            "1\n",
            "------------------------------------------------------------------------------------------------------------------------\n",
            "8\n",
            "------------------------------------------------------------------------------------------------------------------------\n",
            "2\n",
            "------------------------------------------------------------------------------------------------------------------------\n",
            "1\n",
            "------------------------------------------------------------------------------------------------------------------------\n",
            "2\n",
            "------------------------------------------------------------------------------------------------------------------------\n",
            "2\n",
            "------------------------------------------------------------------------------------------------------------------------\n",
            "2\n",
            "------------------------------------------------------------------------------------------------------------------------\n",
            "2\n",
            "------------------------------------------------------------------------------------------------------------------------\n",
            "11\n",
            "------------------------------------------------------------------------------------------------------------------------\n",
            "9\n",
            "------------------------------------------------------------------------------------------------------------------------\n",
            "2\n",
            "------------------------------------------------------------------------------------------------------------------------\n",
            "6\n",
            "------------------------------------------------------------------------------------------------------------------------\n",
            "3\n",
            "------------------------------------------------------------------------------------------------------------------------\n",
            "7\n",
            "------------------------------------------------------------------------------------------------------------------------\n",
            "2\n",
            "------------------------------------------------------------------------------------------------------------------------\n",
            "1\n",
            "------------------------------------------------------------------------------------------------------------------------\n"
          ]
        }
      ]
    },
    {
      "cell_type": "markdown",
      "source": [
        "# Extract solution txt"
      ],
      "metadata": {
        "id": "ubZ40DyVhWsC"
      }
    },
    {
      "cell_type": "code",
      "source": [
        "x_dict = dict()\n",
        "for var in best_solution:\n",
        "  if 'eta' in var:\n",
        "    continue\n",
        "  if best_solution[var]==1:\n",
        "    st,g = var[1:].split('_')\n",
        "    st = int(st) + 1\n",
        "    g = int(g) + 1\n",
        "    x_dict[st] = g\n",
        "x_dict = sorted(x_dict.items(), key=lambda x:x[0])"
      ],
      "metadata": {
        "id": "KGoZN1IXai8A"
      },
      "execution_count": 47,
      "outputs": []
    },
    {
      "cell_type": "code",
      "source": [
        "x_dict"
      ],
      "metadata": {
        "id": "8QYcaUyVb6pu",
        "outputId": "475e2e53-5141-44c3-d120-0683b92462d7",
        "colab": {
          "base_uri": "https://localhost:8080/"
        }
      },
      "execution_count": 48,
      "outputs": [
        {
          "output_type": "execute_result",
          "data": {
            "text/plain": [
              "[(1, 2),\n",
              " (2, 3),\n",
              " (3, 3),\n",
              " (4, 2),\n",
              " (5, 1),\n",
              " (6, 3),\n",
              " (7, 2),\n",
              " (8, 2),\n",
              " (9, 2),\n",
              " (10, 2),\n",
              " (11, 3),\n",
              " (12, 1),\n",
              " (13, 3),\n",
              " (14, 1),\n",
              " (15, 3),\n",
              " (16, 1),\n",
              " (17, 2),\n",
              " (18, 1),\n",
              " (19, 1),\n",
              " (20, 3),\n",
              " (21, 3)]"
            ]
          },
          "metadata": {},
          "execution_count": 48
        }
      ]
    },
    {
      "cell_type": "code",
      "source": [
        "groups = [[] for x in range(n_groups)]\n",
        "zetas = [0 for x in range(n_groups)]\n",
        "for x,group in x_dict:\n",
        "  groups[group-1].append(x)\n",
        "\n",
        "\n",
        "for i,G in enumerate(groups):\n",
        "  happy = 0\n",
        "  for s1 in G:\n",
        "    for s2 in G:\n",
        "      if s1 != s2:\n",
        "        happy += alpha.get((s1-1,s2-1),0)\n",
        "  print(f\"group {i}, Z = {happy}\")"
      ],
      "metadata": {
        "colab": {
          "base_uri": "https://localhost:8080/"
        },
        "id": "Uf-n3NMoWT2r",
        "outputId": "268678b9-6f48-4ddb-cd6c-be081769dd4b"
      },
      "execution_count": 49,
      "outputs": [
        {
          "output_type": "stream",
          "name": "stdout",
          "text": [
            "group 0, Z = 29\n",
            "group 1, Z = 9\n",
            "group 2, Z = 22\n"
          ]
        }
      ]
    },
    {
      "cell_type": "markdown",
      "source": [
        "# Save best solution txt"
      ],
      "metadata": {
        "id": "C-uJCpgZ_65D"
      }
    },
    {
      "cell_type": "code",
      "source": [
        "#one solution only\n",
        "\n",
        "# f = open(\"x_min_max_100.txt\", \"w\")\n",
        "# for i,j in x_dict:\n",
        "#   f.write(f\"{i} {j}\\n\")\n",
        "# f.write(f\"{Z}\")\n",
        "# f.close()"
      ],
      "metadata": {
        "id": "salBaH6Q_39C"
      },
      "execution_count": null,
      "outputs": []
    },
    {
      "cell_type": "markdown",
      "source": [
        "# Extract Multiple Solution"
      ],
      "metadata": {
        "id": "AgPfhk-FEU1O"
      }
    },
    {
      "cell_type": "code",
      "source": [
        "def generate_all_solutions_dict(sampleset):\n",
        "\n",
        "  solutions = []\n",
        "\n",
        "  for sample in sampleset:\n",
        "    sample = dict(sample)\n",
        "    x_dict = dict()\n",
        "    for var in sample:\n",
        "      if 'eta' in var:\n",
        "        continue\n",
        "      if sample[var]==1:\n",
        "        st,g = var[1:].split('_')\n",
        "        st = int(st) + 1\n",
        "        g = int(g) + 1\n",
        "        x_dict[st] = g\n",
        "    x_dict = sorted(x_dict.items(), key=lambda x:x[0])\n",
        "    solutions.append(x_dict)\n",
        "  return solutions"
      ],
      "metadata": {
        "id": "3I6Q5D1qEYDM"
      },
      "execution_count": 50,
      "outputs": []
    },
    {
      "cell_type": "markdown",
      "source": [
        "## Save multiple feasible solutions"
      ],
      "metadata": {
        "id": "UR-oJdEx__46"
      }
    },
    {
      "cell_type": "code",
      "source": [
        "all_feasible_x = generate_all_solutions_dict(feasible_sampleset)"
      ],
      "metadata": {
        "id": "MlFFnjALFXdN"
      },
      "execution_count": 51,
      "outputs": []
    },
    {
      "cell_type": "code",
      "source": [
        "# multiple solutions\n",
        "\n",
        "f = open(f\"x_min_sum_{n_students}_multiple_feasible.txt\", \"w\")\n",
        "f.write(f\"{len(all_feasible_x)}\\n\")\n",
        "for x_d in all_feasible_x:\n",
        "  for i,j in x_d:\n",
        "    f.write(f\"{i} {j}\\n\")\n",
        "  # f.write(\"---\\n\")\n",
        "f.close()"
      ],
      "metadata": {
        "id": "21zahykeGwVS"
      },
      "execution_count": 53,
      "outputs": []
    },
    {
      "cell_type": "code",
      "source": [
        "# save it as a pickle file\n",
        "\n",
        "with open(f\"x_min_sum_{n_students}_multiple_feasible.pkl\", 'wb') as f:\n",
        "  pickle.dump(all_feasible_x, f)"
      ],
      "metadata": {
        "id": "Ip-cFQecASY1"
      },
      "execution_count": 54,
      "outputs": []
    },
    {
      "cell_type": "markdown",
      "source": [
        "## Save not feasible solutions"
      ],
      "metadata": {
        "id": "Kk5WT3vOAtaX"
      }
    },
    {
      "cell_type": "code",
      "source": [
        "all_not_feasible_x = generate_all_solutions_dict(not_feasible_sampleset)"
      ],
      "metadata": {
        "id": "9c0HR76vAu4Q"
      },
      "execution_count": 55,
      "outputs": []
    },
    {
      "cell_type": "code",
      "source": [
        "# multiple solutions\n",
        "\n",
        "f = open(f\"x_min_sum_{n_students}_multiple_not_feasible.txt\", \"w\")\n",
        "f.write(f\"{len(all_not_feasible_x)}\\n\")\n",
        "for x_d in all_not_feasible_x:\n",
        "  for i,j in x_d:\n",
        "    f.write(f\"{i} {j}\\n\")\n",
        "  # f.write(\"---\\n\")\n",
        "f.close()"
      ],
      "metadata": {
        "id": "kYU2Wa8OA17M"
      },
      "execution_count": 56,
      "outputs": []
    },
    {
      "cell_type": "code",
      "source": [
        "# save it as a pickle file\n",
        "\n",
        "with open(f\"x_min_sum_{n_students}_multiple_not_feasible.pkl\", 'wb') as f:\n",
        "  pickle.dump(all_not_feasible_x, f)"
      ],
      "metadata": {
        "id": "Pf6SA8dmA87P"
      },
      "execution_count": 57,
      "outputs": []
    },
    {
      "cell_type": "markdown",
      "source": [
        "# Extract solution in txt"
      ],
      "metadata": {
        "id": "qGu5phHOgbMd"
      }
    },
    {
      "cell_type": "code",
      "source": [
        "# x_dict = dict()\n",
        "# for var in best_solution:\n",
        "#   if best_solution[var]==1:\n",
        "#     st,g = var[1:].split('_')\n",
        "#     st = int(st) + 1\n",
        "#     g = int(g) + 1\n",
        "#     x_dict[st] = g\n",
        "# x_dict = sorted(x_dict.items(), key=lambda x:x[0])"
      ],
      "metadata": {
        "id": "457Y2-JDPSE9"
      },
      "execution_count": null,
      "outputs": []
    },
    {
      "cell_type": "code",
      "source": [
        "# x_dict"
      ],
      "metadata": {
        "id": "QqXS29yLPUlh"
      },
      "execution_count": null,
      "outputs": []
    },
    {
      "cell_type": "code",
      "source": [
        "# z = -1*best.energy\n",
        "# z"
      ],
      "metadata": {
        "id": "4w1LqId1QmAk",
        "colab": {
          "base_uri": "https://localhost:8080/"
        },
        "outputId": "5420be46-6182-41f8-e75a-99c7b7e3a254"
      },
      "execution_count": null,
      "outputs": [
        {
          "output_type": "execute_result",
          "data": {
            "text/plain": [
              "639.0"
            ]
          },
          "metadata": {},
          "execution_count": 36
        }
      ]
    },
    {
      "cell_type": "code",
      "source": [
        "# f = open(f\"x_min_sum_{n_students}.txt\", \"w\")\n",
        "# for i,j in x_dict:\n",
        "#   f.write(f\"{i} {j}\\n\")\n",
        "# f.write(str(int(z)))\n",
        "# f.close()"
      ],
      "metadata": {
        "id": "smcfANFIPaRM"
      },
      "execution_count": null,
      "outputs": []
    }
  ]
}